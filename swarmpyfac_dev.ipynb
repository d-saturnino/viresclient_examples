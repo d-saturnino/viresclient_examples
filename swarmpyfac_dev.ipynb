{
 "cells": [
  {
   "cell_type": "markdown",
   "metadata": {},
   "source": [
    "Some issues with swarmpyfac at present:\n",
    "\n",
    "1. There's some problem with the latest package on PyPI:\n",
    "   ```\n",
    "   (py37) ash@yog:~$ pip install swarmpyfac==0.2.1\n",
    "    ERROR: Could not find a version that satisfies the requirement swarmpyfac==0.2.1 (from versions: 0.2.1.linux-x86_64, 0.1.1, 0.1.2)\n",
    "    ERROR: No matching distribution found for swarmpyfac==0.2.1\n",
    "   ```\n",
    "2. Installing the latest master branch (`pip install git+https://github.com/Swarm-DISC/SwarmPyFAC.git`), I get the below error when running the example\n",
    "3. The top-level interface is a bit confusing and (I think) there is unnecessary complication in the layers between fetching the data and implementing the algorithm\n",
    "\n",
    "I have built a more minimal example below, using `swarmpyfac.fac.single_sat_fac` to just apply the algorithm, and where the data loading into an `xarray.Dataset` is handled by `viresclient`. The idea here is that swarmpyfac shouldn't (necessarily) have to know how to handle the underlying CDF file, and that we can pass around this more structured `xarray.Dataset` rather than tuples or dicts. The problem is that this requires learning xarray, which is hard! but I think will pay off in the long term. To start with though, you can really just treat it like a complex dictionary, accessing numpy arrays like: `ds[\"Latitude\"].data`. Appending data to it is more complex though, as it requires understanding of \"coordinates\" and \"dimensions\" in xarray.\n",
    "\n",
    "I have only covered the case where we fetch data from vires rather than using local data. If a local CDF is to be used, I think it can be loaded in an identical way using `viresclient._data_handling.make_xarray_Dataset_from_cdf` with some additional steps... but should avoid using that as it is a private function within viresclient (though I could change that)"
   ]
  },
  {
   "cell_type": "code",
   "execution_count": 1,
   "metadata": {},
   "outputs": [
    {
     "ename": "TypeError",
     "evalue": "request_data() got an unexpected keyword argument 'use_pop'",
     "output_type": "error",
     "traceback": [
      "\u001b[0;31m---------------------------------------------------------------------------\u001b[0m",
      "\u001b[0;31mTypeError\u001b[0m                                 Traceback (most recent call last)",
      "\u001b[0;32m<ipython-input-1-261b7a60a69d>\u001b[0m in \u001b[0;36m<module>\u001b[0;34m\u001b[0m\n\u001b[1;32m      3\u001b[0m \u001b[0mstart\u001b[0m \u001b[0;34m=\u001b[0m \u001b[0mdate\u001b[0m\u001b[0;34m.\u001b[0m\u001b[0mdatetime\u001b[0m\u001b[0;34m(\u001b[0m\u001b[0;36m2016\u001b[0m\u001b[0;34m,\u001b[0m \u001b[0;36m1\u001b[0m\u001b[0;34m,\u001b[0m \u001b[0;36m1\u001b[0m\u001b[0;34m)\u001b[0m\u001b[0;34m\u001b[0m\u001b[0;34m\u001b[0m\u001b[0m\n\u001b[1;32m      4\u001b[0m \u001b[0mend\u001b[0m \u001b[0;34m=\u001b[0m \u001b[0mdate\u001b[0m\u001b[0;34m.\u001b[0m\u001b[0mdatetime\u001b[0m\u001b[0;34m(\u001b[0m\u001b[0;36m2016\u001b[0m\u001b[0;34m,\u001b[0m \u001b[0;36m1\u001b[0m\u001b[0;34m,\u001b[0m \u001b[0;36m2\u001b[0m\u001b[0;34m)\u001b[0m\u001b[0;34m\u001b[0m\u001b[0;34m\u001b[0m\u001b[0m\n\u001b[0;32m----> 5\u001b[0;31m \u001b[0moutput\u001b[0m\u001b[0;34m,\u001b[0m \u001b[0minput_data\u001b[0m \u001b[0;34m=\u001b[0m \u001b[0mfc\u001b[0m\u001b[0;34m.\u001b[0m\u001b[0mfac_from_file\u001b[0m\u001b[0;34m(\u001b[0m\u001b[0mstart\u001b[0m\u001b[0;34m=\u001b[0m\u001b[0mstart\u001b[0m\u001b[0;34m,\u001b[0m \u001b[0mend\u001b[0m\u001b[0;34m=\u001b[0m\u001b[0mend\u001b[0m\u001b[0;34m)\u001b[0m\u001b[0;34m\u001b[0m\u001b[0;34m\u001b[0m\u001b[0m\n\u001b[0m\u001b[1;32m      6\u001b[0m \u001b[0mtime\u001b[0m\u001b[0;34m,\u001b[0m \u001b[0mposition\u001b[0m\u001b[0;34m,\u001b[0m \u001b[0m__\u001b[0m\u001b[0;34m,\u001b[0m \u001b[0mfac\u001b[0m\u001b[0;34m,\u001b[0m \u001b[0;34m*\u001b[0m\u001b[0m___\u001b[0m \u001b[0;34m=\u001b[0m \u001b[0moutput\u001b[0m\u001b[0;34m\u001b[0m\u001b[0;34m\u001b[0m\u001b[0m\n",
      "\u001b[0;32m~/miniconda3/envs/py37/lib/python3.7/site-packages/swarmpyfac/fac.py\u001b[0m in \u001b[0;36mfac_from_file\u001b[0;34m(**options)\u001b[0m\n\u001b[1;32m    474\u001b[0m     \u001b[0;34m(\u001b[0m\u001b[0marray\u001b[0m\u001b[0;34m(\u001b[0m\u001b[0;34m[\u001b[0m\u001b[0;34m...\u001b[0m\u001b[0;34m]\u001b[0m\u001b[0;34m)\u001b[0m\u001b[0;34m,\u001b[0m \u001b[0marray\u001b[0m\u001b[0;34m(\u001b[0m\u001b[0;34m[\u001b[0m\u001b[0;34m[\u001b[0m\u001b[0;34m...\u001b[0m\u001b[0;34m]\u001b[0m\u001b[0;34m]\u001b[0m\u001b[0;34m)\u001b[0m\u001b[0;34m,\u001b[0m \u001b[0marray\u001b[0m\u001b[0;34m(\u001b[0m\u001b[0;34m[\u001b[0m\u001b[0;34m...\u001b[0m\u001b[0;34m]\u001b[0m\u001b[0;34m)\u001b[0m\u001b[0;34m,\u001b[0m \u001b[0marray\u001b[0m\u001b[0;34m(\u001b[0m\u001b[0;34m[\u001b[0m\u001b[0;34m...\u001b[0m\u001b[0;34m]\u001b[0m\u001b[0;34m)\u001b[0m\u001b[0;34m,\u001b[0m \u001b[0marray\u001b[0m\u001b[0;34m(\u001b[0m\u001b[0;34m[\u001b[0m\u001b[0;34m[\u001b[0m\u001b[0;34m...\u001b[0m\u001b[0;34m]\u001b[0m\u001b[0;34m]\u001b[0m\u001b[0;34m)\u001b[0m\u001b[0;34m,\u001b[0m \u001b[0marray\u001b[0m\u001b[0;34m(\u001b[0m\u001b[0;34m[\u001b[0m\u001b[0;34m[\u001b[0m\u001b[0;34m...\u001b[0m\u001b[0;34m]\u001b[0m\u001b[0;34m]\u001b[0m\u001b[0;34m)\u001b[0m\u001b[0;34m,\u001b[0m \u001b[0marray\u001b[0m\u001b[0;34m(\u001b[0m\u001b[0;34m[\u001b[0m\u001b[0;34m[\u001b[0m\u001b[0;34m...\u001b[0m\u001b[0;34m]\u001b[0m\u001b[0;34m]\u001b[0m\u001b[0;34m)\u001b[0m\u001b[0;34m,\u001b[0m \u001b[0marray\u001b[0m\u001b[0;34m(\u001b[0m\u001b[0;34m[\u001b[0m\u001b[0;34m...\u001b[0m\u001b[0;34m]\u001b[0m\u001b[0;34m)\u001b[0m\u001b[0;34m)\u001b[0m\u001b[0;34m\u001b[0m\u001b[0;34m\u001b[0m\u001b[0m\n\u001b[1;32m    475\u001b[0m     \"\"\"\n\u001b[0;32m--> 476\u001b[0;31m     \u001b[0minput_data\u001b[0m \u001b[0;34m=\u001b[0m \u001b[0mfetch_data\u001b[0m\u001b[0;34m(\u001b[0m\u001b[0;34m**\u001b[0m\u001b[0moptions\u001b[0m\u001b[0;34m,\u001b[0m \u001b[0muse_pop\u001b[0m\u001b[0;34m=\u001b[0m\u001b[0;32mFalse\u001b[0m\u001b[0;34m)\u001b[0m\u001b[0;34m\u001b[0m\u001b[0;34m\u001b[0m\u001b[0m\n\u001b[0m\u001b[1;32m    477\u001b[0m     \u001b[0minput_data\u001b[0m\u001b[0;34m[\u001b[0m\u001b[0;34m'time'\u001b[0m\u001b[0;34m]\u001b[0m \u001b[0;34m*=\u001b[0m \u001b[0;36m0.001\u001b[0m  \u001b[0;31m# conversion to seconds\u001b[0m\u001b[0;34m\u001b[0m\u001b[0;34m\u001b[0m\u001b[0m\n\u001b[1;32m    478\u001b[0m     return (single_sat_fac_full(input_data),\n",
      "\u001b[0;32m~/miniconda3/envs/py37/lib/python3.7/site-packages/swarmpyfac/fac.py\u001b[0m in \u001b[0;36mfetch_data\u001b[0;34m(force_download, temp_file, **options)\u001b[0m\n\u001b[1;32m    412\u001b[0m     \u001b[0mname_pairings\u001b[0m \u001b[0;34m=\u001b[0m \u001b[0moptions\u001b[0m\u001b[0;34m.\u001b[0m\u001b[0mpop\u001b[0m\u001b[0;34m(\u001b[0m\u001b[0;34m'name_pairings'\u001b[0m\u001b[0;34m,\u001b[0m\u001b[0m_name_pairings\u001b[0m\u001b[0;34m)\u001b[0m\u001b[0;34m\u001b[0m\u001b[0;34m\u001b[0m\u001b[0m\n\u001b[1;32m    413\u001b[0m     \u001b[0;32mif\u001b[0m \u001b[0mtemp_file\u001b[0m \u001b[0;32mis\u001b[0m \u001b[0;32mNone\u001b[0m \u001b[0;32mor\u001b[0m \u001b[0;32mnot\u001b[0m \u001b[0mos\u001b[0m\u001b[0;34m.\u001b[0m\u001b[0mpath\u001b[0m\u001b[0;34m.\u001b[0m\u001b[0misfile\u001b[0m\u001b[0;34m(\u001b[0m\u001b[0mtemp_file\u001b[0m\u001b[0;34m)\u001b[0m \u001b[0;32mor\u001b[0m \u001b[0mforce_download\u001b[0m\u001b[0;34m:\u001b[0m\u001b[0;34m\u001b[0m\u001b[0;34m\u001b[0m\u001b[0m\n\u001b[0;32m--> 414\u001b[0;31m         \u001b[0msw\u001b[0m\u001b[0;34m.\u001b[0m\u001b[0mrequest_data\u001b[0m\u001b[0;34m(\u001b[0m\u001b[0;34m**\u001b[0m\u001b[0moptions\u001b[0m\u001b[0;34m,\u001b[0m \u001b[0mtarget_file\u001b[0m\u001b[0;34m=\u001b[0m\u001b[0mtemp_file\u001b[0m\u001b[0;34m)\u001b[0m\u001b[0;34m\u001b[0m\u001b[0;34m\u001b[0m\u001b[0m\n\u001b[0m\u001b[1;32m    415\u001b[0m     \u001b[0;32mreturn\u001b[0m \u001b[0msw\u001b[0m\u001b[0;34m.\u001b[0m\u001b[0mread_cdf\u001b[0m\u001b[0;34m(\u001b[0m\u001b[0mtemp_file\u001b[0m\u001b[0;34m,\u001b[0m \u001b[0;34m**\u001b[0m\u001b[0mname_pairings\u001b[0m\u001b[0;34m)\u001b[0m\u001b[0;34m\u001b[0m\u001b[0;34m\u001b[0m\u001b[0m\n\u001b[1;32m    416\u001b[0m \u001b[0;34m\u001b[0m\u001b[0m\n",
      "\u001b[0;31mTypeError\u001b[0m: request_data() got an unexpected keyword argument 'use_pop'"
     ]
    }
   ],
   "source": [
    "import swarmpyfac as fc\n",
    "import datetime as date\n",
    "start = date.datetime(2016, 1, 1)\n",
    "end = date.datetime(2016, 1, 2)\n",
    "output, input_data = fc.fac_from_file(start=start, end=end)\n",
    "time, position, __, fac, *___ = output"
   ]
  },
  {
   "cell_type": "markdown",
   "metadata": {},
   "source": [
    "# More minimal working example\n",
    "\n",
    "This is essentially a two-step procedure:\n",
    "\n",
    "1. `request_data()`\n",
    "    - Fetch data from VirES as a xarray.Dataset\n",
    "2. 1. `get_input_data_from_ds()`\n",
    "        - Extract the numpy arrays that the algorithm function expects to work on\n",
    "   2. `append_fac()`\n",
    "        - Passes the numpy arrays to the algorithm function (`single_sat_fac`) - at this point other algorithms or configuration could be supplied\n",
    "        - Append new FAC columns to the dataset\n",
    "\n",
    "... and what you get out is a dataset with the original data plus the newly determined FAC estimates\n",
    "\n",
    "Further below I wrap these in a higher level interface `fetch_swarm_fac()`\n",
    "\n",
    "I imagine these in a namespace like:\n",
    "```\n",
    "├── swarmpyfac\n",
    "│   ├── fetch_swarm_fac\n",
    "│   ├── append_fac\n",
    "│   ├── algorithms\n",
    "│       ├── single_sat_fac\n",
    "│       ├── ... other algo's\n",
    "│   ├── utils\n",
    "```\n",
    "\n",
    "so that someone may:\n",
    "- `from swarmpyfac.algorithms import single_sat_fac` and apply that to whatever independent data\n",
    "- or `from swarmpyfac import append_fac` to apply to a dataset they are already working with which may have been fetched from VirES already (but must conform to some expectations of the dataset content)\n",
    "- or just `from swarmpyfac import fetch_swarm_fac` to get it all on-the-fly"
   ]
  },
  {
   "cell_type": "code",
   "execution_count": 2,
   "metadata": {},
   "outputs": [],
   "source": [
    "import numpy as np\n",
    "import pandas as pd\n",
    "from viresclient import SwarmRequest\n",
    "import matplotlib.pyplot as plt\n",
    "%matplotlib inline\n",
    "\n",
    "from swarmpyfac.fac import single_sat_fac"
   ]
  },
  {
   "cell_type": "markdown",
   "metadata": {},
   "source": [
    "### 1. Fetch data from VirES\n",
    "\n",
    "It takes 35 seconds to process one day. The bottleneck is in the MLI and MMA models.\n",
    "\n",
    "The processing progress bar waits mostly at 0% - can the progress reporting from the server be improved?"
   ]
  },
  {
   "cell_type": "code",
   "execution_count": 3,
   "metadata": {},
   "outputs": [
    {
     "name": "stderr",
     "output_type": "stream",
     "text": [
      "[1/1] Processing:  100%|██████████|  [ Elapsed: 00:36, Remaining: 00:00 ]\n",
      "      Downloading: 100%|██████████|  [ Elapsed: 00:03, Remaining: 00:00 ] (10.116MB)\n"
     ]
    },
    {
     "data": {
      "text/html": [
       "<pre>&lt;xarray.Dataset&gt;\n",
       "Dimensions:      (B_NEC_Model_dim1: 3, B_NEC_dim1: 3, Timestamp: 86400)\n",
       "Coordinates:\n",
       "  * Timestamp    (Timestamp) datetime64[ns] 2016-01-01 ... 2016-01-01T23:59:59\n",
       "Dimensions without coordinates: B_NEC_Model_dim1, B_NEC_dim1\n",
       "Data variables:\n",
       "    Spacecraft   (Timestamp) &lt;U1 &#x27;A&#x27; &#x27;A&#x27; &#x27;A&#x27; &#x27;A&#x27; &#x27;A&#x27; &#x27;A&#x27; ... &#x27;A&#x27; &#x27;A&#x27; &#x27;A&#x27; &#x27;A&#x27; &#x27;A&#x27;\n",
       "    Latitude     (Timestamp) float64 -72.5 -72.56 -72.63 ... 31.55 31.61 31.67\n",
       "    Longitude    (Timestamp) float64 92.79 92.82 92.85 ... -95.37 -95.37 -95.37\n",
       "    Radius       (Timestamp) float64 6.834e+06 6.834e+06 ... 6.823e+06 6.823e+06\n",
       "    F            (Timestamp) float64 4.694e+04 4.693e+04 ... 3.886e+04 3.889e+04\n",
       "    F_Model      (Timestamp) float64 4.686e+04 4.685e+04 ... 3.886e+04 3.889e+04\n",
       "    B_NEC        (Timestamp, B_NEC_dim1) float64 -1.581e+03 ... 3.397e+04\n",
       "    B_NEC_Model  (Timestamp, B_NEC_Model_dim1) float64 -1.621e+03 ... 3.397e+04\n",
       "    QDLat        (Timestamp) float64 -81.1 -81.13 -81.16 ... 41.26 41.32 41.39\n",
       "    QDLon        (Timestamp) float64 103.6 103.3 102.9 ... -24.83 -24.83 -24.83\n",
       "    OrbitNumber  (Timestamp) int32 11803 11803 11803 11803 ... 11819 11819 11819\n",
       "Attributes:\n",
       "    Sources:         [&#x27;SW_OPER_AUXAORBCNT_20131122T000000_20191129T000000_000...\n",
       "    MagneticModels:  [&quot;Model = MCO_SHA_2C(max_degree=18,min_degree=1) + MLI_S...\n",
       "    RangeFilters:    [&#x27;Latitude:-90,90&#x27;]</pre>"
      ],
      "text/plain": [
       "<xarray.Dataset>\n",
       "Dimensions:      (B_NEC_Model_dim1: 3, B_NEC_dim1: 3, Timestamp: 86400)\n",
       "Coordinates:\n",
       "  * Timestamp    (Timestamp) datetime64[ns] 2016-01-01 ... 2016-01-01T23:59:59\n",
       "Dimensions without coordinates: B_NEC_Model_dim1, B_NEC_dim1\n",
       "Data variables:\n",
       "    Spacecraft   (Timestamp) <U1 'A' 'A' 'A' 'A' 'A' 'A' ... 'A' 'A' 'A' 'A' 'A'\n",
       "    Latitude     (Timestamp) float64 -72.5 -72.56 -72.63 ... 31.55 31.61 31.67\n",
       "    Longitude    (Timestamp) float64 92.79 92.82 92.85 ... -95.37 -95.37 -95.37\n",
       "    Radius       (Timestamp) float64 6.834e+06 6.834e+06 ... 6.823e+06 6.823e+06\n",
       "    F            (Timestamp) float64 4.694e+04 4.693e+04 ... 3.886e+04 3.889e+04\n",
       "    F_Model      (Timestamp) float64 4.686e+04 4.685e+04 ... 3.886e+04 3.889e+04\n",
       "    B_NEC        (Timestamp, B_NEC_dim1) float64 -1.581e+03 ... 3.397e+04\n",
       "    B_NEC_Model  (Timestamp, B_NEC_Model_dim1) float64 -1.621e+03 ... 3.397e+04\n",
       "    QDLat        (Timestamp) float64 -81.1 -81.13 -81.16 ... 41.26 41.32 41.39\n",
       "    QDLon        (Timestamp) float64 103.6 103.3 102.9 ... -24.83 -24.83 -24.83\n",
       "    OrbitNumber  (Timestamp) int32 11803 11803 11803 11803 ... 11819 11819 11819\n",
       "Attributes:\n",
       "    Sources:         ['SW_OPER_AUXAORBCNT_20131122T000000_20191129T000000_000...\n",
       "    MagneticModels:  [\"Model = MCO_SHA_2C(max_degree=18,min_degree=1) + MLI_S...\n",
       "    RangeFilters:    ['Latitude:-90,90']"
      ]
     },
     "execution_count": 3,
     "metadata": {},
     "output_type": "execute_result"
    }
   ],
   "source": [
    "def request_data(\n",
    "        start=date.datetime(2016, 1, 1),\n",
    "        end=date.datetime(2016, 1, 2),\n",
    "        spacecraft='A',\n",
    "        filters=[{'parameter': 'Latitude',\n",
    "                  'minimum': -90.,\n",
    "                  'maximum': 90.}],\n",
    "        product_options={'auxiliaries': ['QDLat', 'QDLon', 'OrbitNumber']},\n",
    "        sampling_step='PT1S',\n",
    "        # this lets us fetch the full (summed) model from the server directly\n",
    "        # This approach simplifies the \"data\" we then deal with afterwards\n",
    "        # But is this okay? Do we ever need access to the model constituents?\n",
    "        model='Model = \"MCO_SHA_2C\" + \"MLI_SHA_2C\" + \"MMA_SHA_2C-Primary\" + \"MMA_SHA_2C-Secondary\"',\n",
    "#         model=\"MCO_SHA_2C\",\n",
    "        measurements=['F', 'B_NEC'],\n",
    "        # vires credentials - if none supplied, defaults set by ~/.viresclient.ini are used\n",
    "        url=None, token=None, username=None, password=None,):\n",
    "    request = SwarmRequest(url, token, username, password)\n",
    "    collection = f'SW_OPER_MAG{spacecraft}_LR_1B'\n",
    "    request.set_collection(collection)\n",
    "    request.set_products(measurements=measurements, models=[model],\n",
    "                         sampling_step=sampling_step, **product_options)\n",
    "    for filter in filters:\n",
    "        request.set_range_filter(**filter)\n",
    "    data = request.get_between(start_time=start, end_time=end)\n",
    "    ds = data.as_xarray()\n",
    "    return ds\n",
    "\n",
    "ds = request_data()\n",
    "ds"
   ]
  },
  {
   "cell_type": "markdown",
   "metadata": {},
   "source": [
    "#### NB: I just noticed a bug here:\n",
    "the `B_NEC` and `B_NEC_Model` data variables should share the same dimension name (so that `ds['B_NEC'] - ds['B_NEC_Model']` works as expected, etc.)"
   ]
  },
  {
   "cell_type": "markdown",
   "metadata": {},
   "source": [
    "### 2. Define functions to interface between a dataset and the algorithms to apply"
   ]
  },
  {
   "cell_type": "code",
   "execution_count": 4,
   "metadata": {},
   "outputs": [],
   "source": [
    "def get_input_data_from_ds(ds):\n",
    "    \"\"\"Extract the \"input_data\" required from the dataset\"\"\"\n",
    "    # convert time to unix time seconds\n",
    "    ## if on a dataframe, df:\n",
    "    ## time = np.array(df.index.astype(np.int64) / 10**9)\n",
    "    # on xarray.Dataset:\n",
    "    time = ds['Timestamp'].data.astype(np.int64) / 10**9\n",
    "    theta = ds['Latitude'].data\n",
    "    phi = ds['Longitude'].data\n",
    "    r = ds['Radius'].data\n",
    "    # equivalent to swarmpyfac.utils.pack_3d:\n",
    "    positions = np.stack((theta, phi, r), axis=1)\n",
    "    B_model = ds['B_NEC_Model'].data\n",
    "    B_res = ds['B_NEC'].data - B_model\n",
    "    return {'time': time, 'positions':positions,\n",
    "            'B_res': B_res, 'B_model': B_model}\n",
    "\n",
    "def append_fac(ds=None, method='single_sat'):\n",
    "    \"\"\"Append FAC calculations to a dataset\"\"\"\n",
    "    if method == 'single_sat':\n",
    "        input_data = get_input_data_from_ds(ds)\n",
    "        output = single_sat_fac(**input_data)\n",
    "        # outputs like these should probably be turned into a dict so that they can be identified\n",
    "        irc = output[2]\n",
    "        fac = output[3]\n",
    "        time = output[0]\n",
    "    else:\n",
    "        raise NotImplementedError\n",
    "    # Append the new data to the dataset\n",
    "    # https://xarray.pydata.org/en/stable/data-structures.html#dictionary-like-methods\n",
    "    # Note that there must now be a new offset time coordinate\n",
    "    ds.coords['Timestamp_2'] = pd.to_datetime(time, unit='s')\n",
    "    ds[f'FAC_{method}'] = (('Timestamp_2',), fac)\n",
    "    ds[f'IRC_{method}'] = (('Timestamp_2',), irc)\n",
    "    return ds"
   ]
  },
  {
   "cell_type": "markdown",
   "metadata": {},
   "source": [
    "### 3. Use the above functions to append the FAC values to our dataset\n",
    "\n",
    "Note that we now have two time coordinates, one for the input data (`Timestamp`), and one for the FAC (`Timestamp_2`). There might be a cleaner way of handling this... a couple of options:\n",
    "1. Interpolate the data to one or the other time series (not safe in general)\n",
    "2. Make a new time coordinate which is the union of the two, where the data contain nan's where they are not sampled (i.e. every other point)"
   ]
  },
  {
   "cell_type": "code",
   "execution_count": 5,
   "metadata": {},
   "outputs": [
    {
     "data": {
      "text/html": [
       "<pre>&lt;xarray.Dataset&gt;\n",
       "Dimensions:         (B_NEC_Model_dim1: 3, B_NEC_dim1: 3, Timestamp: 86400, Timestamp_2: 86399)\n",
       "Coordinates:\n",
       "  * Timestamp       (Timestamp) datetime64[ns] 2016-01-01 ... 2016-01-01T23:59:59\n",
       "  * Timestamp_2     (Timestamp_2) datetime64[ns] 2016-01-01T00:00:00.500000 ... 2016-01-01T23:59:58.500000\n",
       "Dimensions without coordinates: B_NEC_Model_dim1, B_NEC_dim1\n",
       "Data variables:\n",
       "    Spacecraft      (Timestamp) &lt;U1 &#x27;A&#x27; &#x27;A&#x27; &#x27;A&#x27; &#x27;A&#x27; &#x27;A&#x27; ... &#x27;A&#x27; &#x27;A&#x27; &#x27;A&#x27; &#x27;A&#x27; &#x27;A&#x27;\n",
       "    Latitude        (Timestamp) float64 -72.5 -72.56 -72.63 ... 31.61 31.67\n",
       "    Longitude       (Timestamp) float64 92.79 92.82 92.85 ... -95.37 -95.37\n",
       "    Radius          (Timestamp) float64 6.834e+06 6.834e+06 ... 6.823e+06\n",
       "    F               (Timestamp) float64 4.694e+04 4.693e+04 ... 3.889e+04\n",
       "    F_Model         (Timestamp) float64 4.686e+04 4.685e+04 ... 3.889e+04\n",
       "    B_NEC           (Timestamp, B_NEC_dim1) float64 -1.581e+03 ... 3.397e+04\n",
       "    B_NEC_Model     (Timestamp, B_NEC_Model_dim1) float64 -1.621e+03 ... 3.397e+04\n",
       "    QDLat           (Timestamp) float64 -81.1 -81.13 -81.16 ... 41.32 41.39\n",
       "    QDLon           (Timestamp) float64 103.6 103.3 102.9 ... -24.83 -24.83\n",
       "    OrbitNumber     (Timestamp) int32 11803 11803 11803 ... 11819 11819 11819\n",
       "    FAC_single_sat  (Timestamp_2) float64 -0.1351 -0.04231 ... -0.01048\n",
       "    IRC_single_sat  (Timestamp_2) float64 -0.1317 -0.04125 ... 0.005339 0.009156\n",
       "Attributes:\n",
       "    Sources:         [&#x27;SW_OPER_AUXAORBCNT_20131122T000000_20191129T000000_000...\n",
       "    MagneticModels:  [&quot;Model = MCO_SHA_2C(max_degree=18,min_degree=1) + MLI_S...\n",
       "    RangeFilters:    [&#x27;Latitude:-90,90&#x27;]</pre>"
      ],
      "text/plain": [
       "<xarray.Dataset>\n",
       "Dimensions:         (B_NEC_Model_dim1: 3, B_NEC_dim1: 3, Timestamp: 86400, Timestamp_2: 86399)\n",
       "Coordinates:\n",
       "  * Timestamp       (Timestamp) datetime64[ns] 2016-01-01 ... 2016-01-01T23:59:59\n",
       "  * Timestamp_2     (Timestamp_2) datetime64[ns] 2016-01-01T00:00:00.500000 ... 2016-01-01T23:59:58.500000\n",
       "Dimensions without coordinates: B_NEC_Model_dim1, B_NEC_dim1\n",
       "Data variables:\n",
       "    Spacecraft      (Timestamp) <U1 'A' 'A' 'A' 'A' 'A' ... 'A' 'A' 'A' 'A' 'A'\n",
       "    Latitude        (Timestamp) float64 -72.5 -72.56 -72.63 ... 31.61 31.67\n",
       "    Longitude       (Timestamp) float64 92.79 92.82 92.85 ... -95.37 -95.37\n",
       "    Radius          (Timestamp) float64 6.834e+06 6.834e+06 ... 6.823e+06\n",
       "    F               (Timestamp) float64 4.694e+04 4.693e+04 ... 3.889e+04\n",
       "    F_Model         (Timestamp) float64 4.686e+04 4.685e+04 ... 3.889e+04\n",
       "    B_NEC           (Timestamp, B_NEC_dim1) float64 -1.581e+03 ... 3.397e+04\n",
       "    B_NEC_Model     (Timestamp, B_NEC_Model_dim1) float64 -1.621e+03 ... 3.397e+04\n",
       "    QDLat           (Timestamp) float64 -81.1 -81.13 -81.16 ... 41.32 41.39\n",
       "    QDLon           (Timestamp) float64 103.6 103.3 102.9 ... -24.83 -24.83\n",
       "    OrbitNumber     (Timestamp) int32 11803 11803 11803 ... 11819 11819 11819\n",
       "    FAC_single_sat  (Timestamp_2) float64 -0.1351 -0.04231 ... -0.01048\n",
       "    IRC_single_sat  (Timestamp_2) float64 -0.1317 -0.04125 ... 0.005339 0.009156\n",
       "Attributes:\n",
       "    Sources:         ['SW_OPER_AUXAORBCNT_20131122T000000_20191129T000000_000...\n",
       "    MagneticModels:  [\"Model = MCO_SHA_2C(max_degree=18,min_degree=1) + MLI_S...\n",
       "    RangeFilters:    ['Latitude:-90,90']"
      ]
     },
     "execution_count": 5,
     "metadata": {},
     "output_type": "execute_result"
    }
   ],
   "source": [
    "ds = append_fac(ds, method='single_sat')\n",
    "ds"
   ]
  },
  {
   "cell_type": "markdown",
   "metadata": {},
   "source": [
    "### A couple of options for plotting from dataset"
   ]
  },
  {
   "cell_type": "code",
   "execution_count": 6,
   "metadata": {},
   "outputs": [
    {
     "name": "stderr",
     "output_type": "stream",
     "text": [
      "/home/ash/miniconda3/envs/py37/lib/python3.7/site-packages/pandas/plotting/_matplotlib/converter.py:103: FutureWarning: Using an implicitly registered datetime converter for a matplotlib plotting method. The converter was registered by pandas on import. Future versions of pandas will require you to explicitly register matplotlib converters.\n",
      "\n",
      "To register the converters:\n",
      "\t>>> from pandas.plotting import register_matplotlib_converters\n",
      "\t>>> register_matplotlib_converters()\n",
      "  warnings.warn(msg, FutureWarning)\n"
     ]
    },
    {
     "data": {
      "text/plain": [
       "[<matplotlib.lines.Line2D at 0x7f2825ea8438>]"
      ]
     },
     "execution_count": 6,
     "metadata": {},
     "output_type": "execute_result"
    },
    {
     "data": {
      "image/png": "[encoded data removed]",
      "text/plain": [
       "<Figure size 432x288 with 1 Axes>"
      ]
     },
     "metadata": {
      "needs_background": "light"
     },
     "output_type": "display_data"
    }
   ],
   "source": [
    "ds['FAC_single_sat'].plot()"
   ]
  },
  {
   "cell_type": "markdown",
   "metadata": {},
   "source": [
    "Note that I fetched the `OrbitNumber` from VirES so that I can apply orbit-by-orbit colouring. And we have to adjust the length of `QDLat` and `OrbitNumber` to match the new FAC_single_sat "
   ]
  },
  {
   "cell_type": "code",
   "execution_count": 7,
   "metadata": {},
   "outputs": [
    {
     "data": {
      "text/plain": [
       "<matplotlib.collections.PathCollection at 0x7f2825d0ada0>"
      ]
     },
     "execution_count": 7,
     "metadata": {},
     "output_type": "execute_result"
    },
    {
     "data": {
      "image/png": "[encoded data removed]",
      "text/plain": [
       "<Figure size 432x288 with 1 Axes>"
      ]
     },
     "metadata": {
      "needs_background": "light"
     },
     "output_type": "display_data"
    }
   ],
   "source": [
    "plt.scatter(ds['QDLat'][1:], ds['FAC_single_sat'], c=ds['OrbitNumber'][1:], s=0.1)"
   ]
  },
  {
   "cell_type": "markdown",
   "metadata": {},
   "source": [
    "### 4. Combine the above steps in a higher level interface\n",
    "\n",
    "This is the kind of interface I would like to use if I were just wanting to get the FAC \"measurements\" using such-and-such a method, or maybe wanting to compare the results from using different algorithms or setting.\n",
    "\n",
    "A couple of possible extensions to this:\n",
    "1. Optional output as just a dict so that users don't have to be exposed to xarray if they don't want to be\n",
    "2. Add possibility to pass through more options, to include more data (e.g. `vires_kwargs` or `data_kwargs`) or algorithm configuration (e.g. `algo_kwargs`)"
   ]
  },
  {
   "cell_type": "code",
   "execution_count": 12,
   "metadata": {},
   "outputs": [],
   "source": [
    "def fetch_swarm_fac(\n",
    "        start=date.datetime(2016, 1, 1),\n",
    "        end=date.datetime(2016, 1, 2),\n",
    "        spacecraft='A',\n",
    "        geomagnetic_model_series='CHAOS',\n",
    "        fac_method='single_sat'):\n",
    "    if geomagnetic_model_series == 'CHAOS':\n",
    "        model = 'Model = \"CHAOS-Core\" + \"CHAOS-Static\" + \"CHAOS-MMA-Primary\" + \"CHAOS-MMA-Secondary\"'\n",
    "    elif geomagnetic_model_series == 'CI':\n",
    "        model = 'Model = \"MCO_SHA_2C\" + \"MLI_SHA_2C\" + \"MMA_SHA_2C-Primary\" + \"MMA_SHA_2C-Secondary\"'\n",
    "    else:\n",
    "        raise NotImplementedError\n",
    "    ds = request_data(start=start, end=end, spacecraft=spacecraft, model=model)\n",
    "    ds = append_fac(ds, method='single_sat')\n",
    "    return ds"
   ]
  },
  {
   "cell_type": "markdown",
   "metadata": {},
   "source": [
    "### Compare using the CI models and CHAOS models (an example \"end user\" workflow)\n",
    "\n",
    "Note that the bottleneck with the CHAOS models is even more - this is because of the different structure of the MMA parts"
   ]
  },
  {
   "cell_type": "code",
   "execution_count": 13,
   "metadata": {},
   "outputs": [
    {
     "name": "stderr",
     "output_type": "stream",
     "text": [
      "[1/1] Processing:  100%|██████████|  [ Elapsed: 01:11, Remaining: 00:00 ]\n",
      "      Downloading: 100%|██████████|  [ Elapsed: 00:07, Remaining: 00:00 ] (10.116MB)\n"
     ]
    },
    {
     "data": {
      "text/html": [
       "<pre>&lt;xarray.Dataset&gt;\n",
       "Dimensions:         (B_NEC_Model_dim1: 3, B_NEC_dim1: 3, Timestamp: 86400, Timestamp_2: 86399)\n",
       "Coordinates:\n",
       "  * Timestamp       (Timestamp) datetime64[ns] 2016-01-01 ... 2016-01-01T23:59:59\n",
       "  * Timestamp_2     (Timestamp_2) datetime64[ns] 2016-01-01T00:00:00.500000 ... 2016-01-01T23:59:58.500000\n",
       "Dimensions without coordinates: B_NEC_Model_dim1, B_NEC_dim1\n",
       "Data variables:\n",
       "    Spacecraft      (Timestamp) &lt;U1 &#x27;A&#x27; &#x27;A&#x27; &#x27;A&#x27; &#x27;A&#x27; &#x27;A&#x27; ... &#x27;A&#x27; &#x27;A&#x27; &#x27;A&#x27; &#x27;A&#x27; &#x27;A&#x27;\n",
       "    Latitude        (Timestamp) float64 -72.5 -72.56 -72.63 ... 31.61 31.67\n",
       "    Longitude       (Timestamp) float64 92.79 92.82 92.85 ... -95.37 -95.37\n",
       "    Radius          (Timestamp) float64 6.834e+06 6.834e+06 ... 6.823e+06\n",
       "    F               (Timestamp) float64 4.694e+04 4.693e+04 ... 3.889e+04\n",
       "    F_Model         (Timestamp) float64 4.689e+04 4.689e+04 ... 3.889e+04\n",
       "    B_NEC           (Timestamp, B_NEC_dim1) float64 -1.581e+03 ... 3.397e+04\n",
       "    B_NEC_Model     (Timestamp, B_NEC_Model_dim1) float64 -1.602e+03 ... 3.397e+04\n",
       "    QDLat           (Timestamp) float64 -81.1 -81.13 -81.16 ... 41.32 41.39\n",
       "    QDLon           (Timestamp) float64 103.6 103.3 102.9 ... -24.83 -24.83\n",
       "    OrbitNumber     (Timestamp) int32 11803 11803 11803 ... 11819 11819 11819\n",
       "    FAC_single_sat  (Timestamp_2) float64 -0.1332 -0.04045 ... -0.009421\n",
       "    IRC_single_sat  (Timestamp_2) float64 -0.1299 -0.03943 ... 0.004412 0.008228\n",
       "Attributes:\n",
       "    Sources:         [&#x27;CHAOS-7_static.shc&#x27;, &#x27;SW_OPER_AUXAORBCNT_20131122T0000...\n",
       "    MagneticModels:  [&quot;Model = &#x27;CHAOS-Core&#x27;(max_degree=20,min_degree=1) + &#x27;CH...\n",
       "    RangeFilters:    [&#x27;Latitude:-90,90&#x27;]</pre>"
      ],
      "text/plain": [
       "<xarray.Dataset>\n",
       "Dimensions:         (B_NEC_Model_dim1: 3, B_NEC_dim1: 3, Timestamp: 86400, Timestamp_2: 86399)\n",
       "Coordinates:\n",
       "  * Timestamp       (Timestamp) datetime64[ns] 2016-01-01 ... 2016-01-01T23:59:59\n",
       "  * Timestamp_2     (Timestamp_2) datetime64[ns] 2016-01-01T00:00:00.500000 ... 2016-01-01T23:59:58.500000\n",
       "Dimensions without coordinates: B_NEC_Model_dim1, B_NEC_dim1\n",
       "Data variables:\n",
       "    Spacecraft      (Timestamp) <U1 'A' 'A' 'A' 'A' 'A' ... 'A' 'A' 'A' 'A' 'A'\n",
       "    Latitude        (Timestamp) float64 -72.5 -72.56 -72.63 ... 31.61 31.67\n",
       "    Longitude       (Timestamp) float64 92.79 92.82 92.85 ... -95.37 -95.37\n",
       "    Radius          (Timestamp) float64 6.834e+06 6.834e+06 ... 6.823e+06\n",
       "    F               (Timestamp) float64 4.694e+04 4.693e+04 ... 3.889e+04\n",
       "    F_Model         (Timestamp) float64 4.689e+04 4.689e+04 ... 3.889e+04\n",
       "    B_NEC           (Timestamp, B_NEC_dim1) float64 -1.581e+03 ... 3.397e+04\n",
       "    B_NEC_Model     (Timestamp, B_NEC_Model_dim1) float64 -1.602e+03 ... 3.397e+04\n",
       "    QDLat           (Timestamp) float64 -81.1 -81.13 -81.16 ... 41.32 41.39\n",
       "    QDLon           (Timestamp) float64 103.6 103.3 102.9 ... -24.83 -24.83\n",
       "    OrbitNumber     (Timestamp) int32 11803 11803 11803 ... 11819 11819 11819\n",
       "    FAC_single_sat  (Timestamp_2) float64 -0.1332 -0.04045 ... -0.009421\n",
       "    IRC_single_sat  (Timestamp_2) float64 -0.1299 -0.03943 ... 0.004412 0.008228\n",
       "Attributes:\n",
       "    Sources:         ['CHAOS-7_static.shc', 'SW_OPER_AUXAORBCNT_20131122T0000...\n",
       "    MagneticModels:  [\"Model = 'CHAOS-Core'(max_degree=20,min_degree=1) + 'CH...\n",
       "    RangeFilters:    ['Latitude:-90,90']"
      ]
     },
     "execution_count": 13,
     "metadata": {},
     "output_type": "execute_result"
    }
   ],
   "source": [
    "ds_chaos = fetch_swarm_fac(\n",
    "    '2016-01-01', '2016-01-02', spacecraft='A',\n",
    "    geomagnetic_model_series='CHAOS', fac_method='single_sat')\n",
    "ds_chaos"
   ]
  },
  {
   "cell_type": "code",
   "execution_count": 14,
   "metadata": {},
   "outputs": [
    {
     "name": "stderr",
     "output_type": "stream",
     "text": [
      "[1/1] Processing:  100%|██████████|  [ Elapsed: 00:36, Remaining: 00:00 ]\n",
      "      Downloading: 100%|██████████|  [ Elapsed: 00:03, Remaining: 00:00 ] (10.116MB)\n"
     ]
    },
    {
     "data": {
      "text/html": [
       "<pre>&lt;xarray.Dataset&gt;\n",
       "Dimensions:         (B_NEC_Model_dim1: 3, B_NEC_dim1: 3, Timestamp: 86400, Timestamp_2: 86399)\n",
       "Coordinates:\n",
       "  * Timestamp       (Timestamp) datetime64[ns] 2016-01-01 ... 2016-01-01T23:59:59\n",
       "  * Timestamp_2     (Timestamp_2) datetime64[ns] 2016-01-01T00:00:00.500000 ... 2016-01-01T23:59:58.500000\n",
       "Dimensions without coordinates: B_NEC_Model_dim1, B_NEC_dim1\n",
       "Data variables:\n",
       "    Spacecraft      (Timestamp) &lt;U1 &#x27;A&#x27; &#x27;A&#x27; &#x27;A&#x27; &#x27;A&#x27; &#x27;A&#x27; ... &#x27;A&#x27; &#x27;A&#x27; &#x27;A&#x27; &#x27;A&#x27; &#x27;A&#x27;\n",
       "    Latitude        (Timestamp) float64 -72.5 -72.56 -72.63 ... 31.61 31.67\n",
       "    Longitude       (Timestamp) float64 92.79 92.82 92.85 ... -95.37 -95.37\n",
       "    Radius          (Timestamp) float64 6.834e+06 6.834e+06 ... 6.823e+06\n",
       "    F               (Timestamp) float64 4.694e+04 4.693e+04 ... 3.889e+04\n",
       "    F_Model         (Timestamp) float64 4.686e+04 4.685e+04 ... 3.889e+04\n",
       "    B_NEC           (Timestamp, B_NEC_dim1) float64 -1.581e+03 ... 3.397e+04\n",
       "    B_NEC_Model     (Timestamp, B_NEC_Model_dim1) float64 -1.621e+03 ... 3.397e+04\n",
       "    QDLat           (Timestamp) float64 -81.1 -81.13 -81.16 ... 41.32 41.39\n",
       "    QDLon           (Timestamp) float64 103.6 103.3 102.9 ... -24.83 -24.83\n",
       "    OrbitNumber     (Timestamp) int32 11803 11803 11803 ... 11819 11819 11819\n",
       "    FAC_single_sat  (Timestamp_2) float64 -0.1351 -0.04231 ... -0.01048\n",
       "    IRC_single_sat  (Timestamp_2) float64 -0.1317 -0.04125 ... 0.005339 0.009156\n",
       "Attributes:\n",
       "    Sources:         [&#x27;SW_OPER_AUXAORBCNT_20131122T000000_20191129T000000_000...\n",
       "    MagneticModels:  [&quot;Model = MCO_SHA_2C(max_degree=18,min_degree=1) + MLI_S...\n",
       "    RangeFilters:    [&#x27;Latitude:-90,90&#x27;]</pre>"
      ],
      "text/plain": [
       "<xarray.Dataset>\n",
       "Dimensions:         (B_NEC_Model_dim1: 3, B_NEC_dim1: 3, Timestamp: 86400, Timestamp_2: 86399)\n",
       "Coordinates:\n",
       "  * Timestamp       (Timestamp) datetime64[ns] 2016-01-01 ... 2016-01-01T23:59:59\n",
       "  * Timestamp_2     (Timestamp_2) datetime64[ns] 2016-01-01T00:00:00.500000 ... 2016-01-01T23:59:58.500000\n",
       "Dimensions without coordinates: B_NEC_Model_dim1, B_NEC_dim1\n",
       "Data variables:\n",
       "    Spacecraft      (Timestamp) <U1 'A' 'A' 'A' 'A' 'A' ... 'A' 'A' 'A' 'A' 'A'\n",
       "    Latitude        (Timestamp) float64 -72.5 -72.56 -72.63 ... 31.61 31.67\n",
       "    Longitude       (Timestamp) float64 92.79 92.82 92.85 ... -95.37 -95.37\n",
       "    Radius          (Timestamp) float64 6.834e+06 6.834e+06 ... 6.823e+06\n",
       "    F               (Timestamp) float64 4.694e+04 4.693e+04 ... 3.889e+04\n",
       "    F_Model         (Timestamp) float64 4.686e+04 4.685e+04 ... 3.889e+04\n",
       "    B_NEC           (Timestamp, B_NEC_dim1) float64 -1.581e+03 ... 3.397e+04\n",
       "    B_NEC_Model     (Timestamp, B_NEC_Model_dim1) float64 -1.621e+03 ... 3.397e+04\n",
       "    QDLat           (Timestamp) float64 -81.1 -81.13 -81.16 ... 41.32 41.39\n",
       "    QDLon           (Timestamp) float64 103.6 103.3 102.9 ... -24.83 -24.83\n",
       "    OrbitNumber     (Timestamp) int32 11803 11803 11803 ... 11819 11819 11819\n",
       "    FAC_single_sat  (Timestamp_2) float64 -0.1351 -0.04231 ... -0.01048\n",
       "    IRC_single_sat  (Timestamp_2) float64 -0.1317 -0.04125 ... 0.005339 0.009156\n",
       "Attributes:\n",
       "    Sources:         ['SW_OPER_AUXAORBCNT_20131122T000000_20191129T000000_000...\n",
       "    MagneticModels:  [\"Model = MCO_SHA_2C(max_degree=18,min_degree=1) + MLI_S...\n",
       "    RangeFilters:    ['Latitude:-90,90']"
      ]
     },
     "execution_count": 14,
     "metadata": {},
     "output_type": "execute_result"
    }
   ],
   "source": [
    "ds_ci = evaluate_swarm_fac(\n",
    "    '2016-01-01', '2016-01-02', spacecraft='A',\n",
    "    geomagnetic_model_series='CI', fac_method='single_sat')\n",
    "ds_ci"
   ]
  },
  {
   "cell_type": "code",
   "execution_count": 15,
   "metadata": {},
   "outputs": [
    {
     "data": {
      "image/png": "[encoded data removed]",
      "text/plain": [
       "<Figure size 432x288 with 1 Axes>"
      ]
     },
     "metadata": {
      "needs_background": "light"
     },
     "output_type": "display_data"
    }
   ],
   "source": [
    "fig, ax = plt.subplots(1, 1)\n",
    "(ds_chaos['FAC_single_sat'] - ds_ci['FAC_single_sat']).plot(ax=ax)\n",
    "ax.set_ylabel('difference');"
   ]
  }
 ],
 "metadata": {
  "kernelspec": {
   "display_name": "Python 3",
   "language": "python",
   "name": "python3"
  },
  "language_info": {
   "codemirror_mode": {
    "name": "ipython",
    "version": 3
   },
   "file_extension": ".py",
   "mimetype": "text/x-python",
   "name": "python",
   "nbconvert_exporter": "python",
   "pygments_lexer": "ipython3",
   "version": "3.7.3"
  }
 },
 "nbformat": 4,
 "nbformat_minor": 4
}
