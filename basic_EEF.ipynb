{
 "cells": [
  {
   "cell_type": "code",
   "execution_count": 7,
   "metadata": {},
   "outputs": [
    {
     "name": "stderr",
     "output_type": "stream",
     "text": [
      "[1/1] Processing:  100%|██████████|  [ Elapsed: 00:03, Remaining: 00:00 ]\n",
      "      Downloading: 100%|██████████|  [ Elapsed: 00:00, Remaining: 00:00 ] (0.313MB)\n"
     ]
    }
   ],
   "source": [
    "from viresclient import SwarmRequest\n",
    "import datetime as dt\n",
    "import numpy as np\n",
    "import pandas as pd\n",
    "\n",
    "request = SwarmRequest(\"https://staging.viresdisc.vires.services/openows\")\n",
    "\n",
    "request.set_collection(\"SW_OPER_EEFBTMS_2F\")\n",
    "\n",
    "request.set_products(measurements=request.available_measurements(\"EEF\"))\n",
    "\n",
    "start_time = dt.datetime(2016,1,1)\n",
    "end_time = dt.datetime(2017,1,1)\n",
    "data = request.get_between(start_time, end_time)"
   ]
  },
  {
   "cell_type": "code",
   "execution_count": 8,
   "metadata": {},
   "outputs": [
    {
     "data": {
      "text/plain": [
       "array([datetime.timedelta(-1, 1117), datetime.timedelta(0),\n",
       "       datetime.timedelta(0, 2561), datetime.timedelta(0, 2616),\n",
       "       datetime.timedelta(0, 2620), datetime.timedelta(0, 2712),\n",
       "       datetime.timedelta(0, 2786), datetime.timedelta(0, 2838),\n",
       "       datetime.timedelta(0, 2901), datetime.timedelta(0, 3011),\n",
       "       datetime.timedelta(0, 3066), datetime.timedelta(0, 3126),\n",
       "       datetime.timedelta(0, 5489), datetime.timedelta(0, 5490),\n",
       "       datetime.timedelta(0, 5491), datetime.timedelta(0, 5492),\n",
       "       datetime.timedelta(0, 5493), datetime.timedelta(0, 5494),\n",
       "       datetime.timedelta(0, 5495), datetime.timedelta(0, 5496)],\n",
       "      dtype=object)"
      ]
     },
     "execution_count": 8,
     "metadata": {},
     "output_type": "execute_result"
    }
   ],
   "source": [
    "# Take a look at the time jumps between entries\n",
    "df = data.as_dataframe()\n",
    "times = df.index\n",
    "np.unique(np.sort(np.diff(times.to_pydatetime())))[:20]"
   ]
  },
  {
   "cell_type": "code",
   "execution_count": 9,
   "metadata": {
    "scrolled": true
   },
   "outputs": [
    {
     "data": {
      "text/html": [
       "<div>\n",
       "<style scoped>\n",
       "    .dataframe tbody tr th:only-of-type {\n",
       "        vertical-align: middle;\n",
       "    }\n",
       "\n",
       "    .dataframe tbody tr th {\n",
       "        vertical-align: top;\n",
       "    }\n",
       "\n",
       "    .dataframe thead th {\n",
       "        text-align: right;\n",
       "    }\n",
       "</style>\n",
       "<table border=\"1\" class=\"dataframe\">\n",
       "  <thead>\n",
       "    <tr style=\"text-align: right;\">\n",
       "      <th></th>\n",
       "      <th>EEF</th>\n",
       "      <th>Latitude</th>\n",
       "      <th>Longitude</th>\n",
       "      <th>RelErr</th>\n",
       "      <th>Spacecraft</th>\n",
       "      <th>flags</th>\n",
       "    </tr>\n",
       "    <tr>\n",
       "      <th>Timestamp</th>\n",
       "      <th></th>\n",
       "      <th></th>\n",
       "      <th></th>\n",
       "      <th></th>\n",
       "      <th></th>\n",
       "      <th></th>\n",
       "    </tr>\n",
       "  </thead>\n",
       "  <tbody>\n",
       "    <tr>\n",
       "      <th>2016-01-01 00:52:25</th>\n",
       "      <td>-0.000758</td>\n",
       "      <td>7.187098</td>\n",
       "      <td>113.751205</td>\n",
       "      <td>0.356176</td>\n",
       "      <td>B</td>\n",
       "      <td>2</td>\n",
       "    </tr>\n",
       "    <tr>\n",
       "      <th>2016-01-01 02:27:08</th>\n",
       "      <td>-0.000659</td>\n",
       "      <td>7.466371</td>\n",
       "      <td>89.976870</td>\n",
       "      <td>0.280210</td>\n",
       "      <td>B</td>\n",
       "      <td>2</td>\n",
       "    </tr>\n",
       "    <tr>\n",
       "      <th>2016-01-01 04:02:05</th>\n",
       "      <td>-0.000349</td>\n",
       "      <td>6.861260</td>\n",
       "      <td>66.179520</td>\n",
       "      <td>0.341369</td>\n",
       "      <td>B</td>\n",
       "      <td>2</td>\n",
       "    </tr>\n",
       "    <tr>\n",
       "      <th>2016-01-01 05:36:45</th>\n",
       "      <td>-0.000203</td>\n",
       "      <td>7.330604</td>\n",
       "      <td>42.410120</td>\n",
       "      <td>0.454075</td>\n",
       "      <td>B</td>\n",
       "      <td>2</td>\n",
       "    </tr>\n",
       "    <tr>\n",
       "      <th>2016-01-01 07:10:50</th>\n",
       "      <td>-0.000235</td>\n",
       "      <td>10.010381</td>\n",
       "      <td>18.697549</td>\n",
       "      <td>0.745044</td>\n",
       "      <td>B</td>\n",
       "      <td>2</td>\n",
       "    </tr>\n",
       "  </tbody>\n",
       "</table>\n",
       "</div>"
      ],
      "text/plain": [
       "                          EEF   Latitude   Longitude    RelErr Spacecraft  \\\n",
       "Timestamp                                                                   \n",
       "2016-01-01 00:52:25 -0.000758   7.187098  113.751205  0.356176          B   \n",
       "2016-01-01 02:27:08 -0.000659   7.466371   89.976870  0.280210          B   \n",
       "2016-01-01 04:02:05 -0.000349   6.861260   66.179520  0.341369          B   \n",
       "2016-01-01 05:36:45 -0.000203   7.330604   42.410120  0.454075          B   \n",
       "2016-01-01 07:10:50 -0.000235  10.010381   18.697549  0.745044          B   \n",
       "\n",
       "                     flags  \n",
       "Timestamp                   \n",
       "2016-01-01 00:52:25      2  \n",
       "2016-01-01 02:27:08      2  \n",
       "2016-01-01 04:02:05      2  \n",
       "2016-01-01 05:36:45      2  \n",
       "2016-01-01 07:10:50      2  "
      ]
     },
     "execution_count": 9,
     "metadata": {},
     "output_type": "execute_result"
    }
   ],
   "source": [
    "df.head()"
   ]
  },
  {
   "cell_type": "code",
   "execution_count": null,
   "metadata": {},
   "outputs": [],
   "source": []
  }
 ],
 "metadata": {
  "kernelspec": {
   "display_name": "Python 3",
   "language": "python",
   "name": "python3"
  },
  "language_info": {
   "codemirror_mode": {
    "name": "ipython",
    "version": 3
   },
   "file_extension": ".py",
   "mimetype": "text/x-python",
   "name": "python",
   "nbconvert_exporter": "python",
   "pygments_lexer": "ipython3",
   "version": "3.5.5"
  }
 },
 "nbformat": 4,
 "nbformat_minor": 2
}
