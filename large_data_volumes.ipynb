{
 "cells": [
  {
   "cell_type": "markdown",
   "metadata": {},
   "source": [
    "This notebook demonstrates some ways of requesting and handling larger data volumes.\n",
    "\n",
    "Note that the code could take a long time to run, so it is better to adjust it for smaller jobs if you are just testing it out."
   ]
  },
  {
   "cell_type": "code",
   "execution_count": 2,
   "metadata": {},
   "outputs": [],
   "source": [
    "from viresclient import SwarmRequest\n",
    "import datetime as dt"
   ]
  },
  {
   "cell_type": "markdown",
   "metadata": {},
   "source": [
    "# Set up the request parameters - magnetic data and model evaluations\n",
    "\n",
    "Note that the code below will fetch the measurements (`F`, `B_NEC`), and model values (named as `F_CHAOS`, `B_NEC_CHAOS`) - here we name the custom model as \"CHAOS\" but you can call it anything.\n",
    "\n",
    "It is also possible to fetch data from all satellites at once with `request.set_collection(\"SW_OPER_MAGA_LR_1B\", \"SW_OPER_MAGB_LR_1B\", \"\"SW_OPER_MAGC_LR_1B\")`, which will be identified in the returned data by the `Spacecraft` column."
   ]
  },
  {
   "cell_type": "code",
   "execution_count": 2,
   "metadata": {},
   "outputs": [],
   "source": [
    "request = SwarmRequest()\n",
    "request.set_collection(\"SW_OPER_MAGA_LR_1B\")  # Swarm Alpha\n",
    "request.set_products(\n",
    "    measurements=[\"F\", \"B_NEC\"],\n",
    "    # Choose between the full CHAOS model (will be a lot slower - the MMA part could use some optimisation(?))\n",
    "#     models=[\"CHAOS = 'CHAOS-6-Core' + 'CHAOS-6-Static' + 'CHAOS-6-MMA-Primary' + 'CHAOS-6-MMA-Secondary'\"],\n",
    "    # ...or just the core part:\n",
    "    models=[\"CHAOS = 'CHAOS-6-Core'\"],\n",
    "    sampling_step=\"PT1S\"\n",
    ")\n",
    "# Quality Flags\n",
    "# https://earth.esa.int/web/guest/missions/esa-eo-missions/swarm/data-handbook/level-1b-product-definitions#label-Flags_F-and-Flags_B-Values-of-MDR_MAG_LR\n",
    "# NB: will need to do something different for Charlie because the ASM broke so Flags_F are bad\n",
    "request.set_range_filter(\"Flags_F\", 0, 1)\n",
    "request.set_range_filter(\"Flags_B\", 0, 1)"
   ]
  },
  {
   "cell_type": "markdown",
   "metadata": {},
   "source": [
    "# Look at one day to see what the output data will look like"
   ]
  },
  {
   "cell_type": "code",
   "execution_count": 3,
   "metadata": {},
   "outputs": [
    {
     "name": "stderr",
     "output_type": "stream",
     "text": [
      "[1/1] Processing:  100%|██████████|  [ Elapsed: 00:03, Remaining: 00:00 ]\n",
      "      Downloading: 100%|██████████|  [ Elapsed: 00:01, Remaining: 00:00 ] (8.212MB)\n"
     ]
    }
   ],
   "source": [
    "data = request.get_between(\n",
    "    start_time=dt.datetime(2018,1,1),\n",
    "    end_time=dt.datetime(2018,1,2)\n",
    ")"
   ]
  },
  {
   "cell_type": "code",
   "execution_count": 4,
   "metadata": {},
   "outputs": [
    {
     "data": {
      "text/html": [
       "<div>\n",
       "<style scoped>\n",
       "    .dataframe tbody tr th:only-of-type {\n",
       "        vertical-align: middle;\n",
       "    }\n",
       "\n",
       "    .dataframe tbody tr th {\n",
       "        vertical-align: top;\n",
       "    }\n",
       "\n",
       "    .dataframe thead th {\n",
       "        text-align: right;\n",
       "    }\n",
       "</style>\n",
       "<table border=\"1\" class=\"dataframe\">\n",
       "  <thead>\n",
       "    <tr style=\"text-align: right;\">\n",
       "      <th></th>\n",
       "      <th>Spacecraft</th>\n",
       "      <th>Latitude</th>\n",
       "      <th>Longitude</th>\n",
       "      <th>Radius</th>\n",
       "      <th>F</th>\n",
       "      <th>F_CHAOS</th>\n",
       "      <th>B_NEC_N</th>\n",
       "      <th>B_NEC_E</th>\n",
       "      <th>B_NEC_C</th>\n",
       "      <th>B_NEC_CHAOS_N</th>\n",
       "      <th>B_NEC_CHAOS_E</th>\n",
       "      <th>B_NEC_CHAOS_C</th>\n",
       "    </tr>\n",
       "  </thead>\n",
       "  <tbody>\n",
       "    <tr>\n",
       "      <td>2018-01-01 00:00:00</td>\n",
       "      <td>A</td>\n",
       "      <td>67.633961</td>\n",
       "      <td>171.372832</td>\n",
       "      <td>6808059.52</td>\n",
       "      <td>46592.0984</td>\n",
       "      <td>46590.202935</td>\n",
       "      <td>10359.2446</td>\n",
       "      <td>-187.2981</td>\n",
       "      <td>45425.4040</td>\n",
       "      <td>10358.937030</td>\n",
       "      <td>-153.381520</td>\n",
       "      <td>45423.737266</td>\n",
       "    </tr>\n",
       "    <tr>\n",
       "      <td>2018-01-01 00:00:01</td>\n",
       "      <td>A</td>\n",
       "      <td>67.570052</td>\n",
       "      <td>171.389161</td>\n",
       "      <td>6808066.03</td>\n",
       "      <td>46578.1323</td>\n",
       "      <td>46576.048406</td>\n",
       "      <td>10394.1152</td>\n",
       "      <td>-186.2339</td>\n",
       "      <td>45403.1172</td>\n",
       "      <td>10394.202973</td>\n",
       "      <td>-152.411189</td>\n",
       "      <td>45401.162986</td>\n",
       "    </tr>\n",
       "    <tr>\n",
       "      <td>2018-01-01 00:00:02</td>\n",
       "      <td>A</td>\n",
       "      <td>67.506140</td>\n",
       "      <td>171.405378</td>\n",
       "      <td>6808072.56</td>\n",
       "      <td>46564.0862</td>\n",
       "      <td>46561.812766</td>\n",
       "      <td>10429.4246</td>\n",
       "      <td>-184.7463</td>\n",
       "      <td>45380.5991</td>\n",
       "      <td>10429.450713</td>\n",
       "      <td>-151.433387</td>\n",
       "      <td>45378.475447</td>\n",
       "    </tr>\n",
       "    <tr>\n",
       "      <td>2018-01-01 00:00:03</td>\n",
       "      <td>A</td>\n",
       "      <td>67.442226</td>\n",
       "      <td>171.421486</td>\n",
       "      <td>6808079.11</td>\n",
       "      <td>46549.9552</td>\n",
       "      <td>46547.496040</td>\n",
       "      <td>10464.5537</td>\n",
       "      <td>-183.3768</td>\n",
       "      <td>45358.0147</td>\n",
       "      <td>10464.679869</td>\n",
       "      <td>-150.448125</td>\n",
       "      <td>45355.674708</td>\n",
       "    </tr>\n",
       "    <tr>\n",
       "      <td>2018-01-01 00:00:04</td>\n",
       "      <td>A</td>\n",
       "      <td>67.378309</td>\n",
       "      <td>171.437486</td>\n",
       "      <td>6808085.67</td>\n",
       "      <td>46535.7412</td>\n",
       "      <td>46533.098437</td>\n",
       "      <td>10499.3677</td>\n",
       "      <td>-182.4300</td>\n",
       "      <td>45335.4015</td>\n",
       "      <td>10499.890161</td>\n",
       "      <td>-149.455429</td>\n",
       "      <td>45332.760999</td>\n",
       "    </tr>\n",
       "  </tbody>\n",
       "</table>\n",
       "</div>"
      ],
      "text/plain": [
       "                    Spacecraft   Latitude   Longitude      Radius           F  \\\n",
       "2018-01-01 00:00:00          A  67.633961  171.372832  6808059.52  46592.0984   \n",
       "2018-01-01 00:00:01          A  67.570052  171.389161  6808066.03  46578.1323   \n",
       "2018-01-01 00:00:02          A  67.506140  171.405378  6808072.56  46564.0862   \n",
       "2018-01-01 00:00:03          A  67.442226  171.421486  6808079.11  46549.9552   \n",
       "2018-01-01 00:00:04          A  67.378309  171.437486  6808085.67  46535.7412   \n",
       "\n",
       "                          F_CHAOS     B_NEC_N   B_NEC_E     B_NEC_C  \\\n",
       "2018-01-01 00:00:00  46590.202935  10359.2446 -187.2981  45425.4040   \n",
       "2018-01-01 00:00:01  46576.048406  10394.1152 -186.2339  45403.1172   \n",
       "2018-01-01 00:00:02  46561.812766  10429.4246 -184.7463  45380.5991   \n",
       "2018-01-01 00:00:03  46547.496040  10464.5537 -183.3768  45358.0147   \n",
       "2018-01-01 00:00:04  46533.098437  10499.3677 -182.4300  45335.4015   \n",
       "\n",
       "                     B_NEC_CHAOS_N  B_NEC_CHAOS_E  B_NEC_CHAOS_C  \n",
       "2018-01-01 00:00:00   10358.937030    -153.381520   45423.737266  \n",
       "2018-01-01 00:00:01   10394.202973    -152.411189   45401.162986  \n",
       "2018-01-01 00:00:02   10429.450713    -151.433387   45378.475447  \n",
       "2018-01-01 00:00:03   10464.679869    -150.448125   45355.674708  \n",
       "2018-01-01 00:00:04   10499.890161    -149.455429   45332.760999  "
      ]
     },
     "execution_count": 4,
     "metadata": {},
     "output_type": "execute_result"
    }
   ],
   "source": [
    "data.as_dataframe(expand=True).head()"
   ]
  },
  {
   "cell_type": "code",
   "execution_count": 5,
   "metadata": {},
   "outputs": [
    {
     "data": {
      "text/plain": [
       "<xarray.Dataset>\n",
       "Dimensions:      (Timestamp: 84595, dim: 3)\n",
       "Coordinates:\n",
       "  * Timestamp    (Timestamp) datetime64[ns] 2018-01-01 ... 2018-01-01T23:59:59\n",
       "Dimensions without coordinates: dim\n",
       "Data variables:\n",
       "    Spacecraft   (Timestamp) <U1 'A' 'A' 'A' 'A' 'A' 'A' ... 'A' 'A' 'A' 'A' 'A'\n",
       "    Latitude     (Timestamp) float64 67.63 67.57 67.51 ... -81.72 -81.78 -81.84\n",
       "    Longitude    (Timestamp) float64 171.4 171.4 171.4 ... -164.9 -164.8 -164.7\n",
       "    Radius       (Timestamp) float64 6.808e+06 6.808e+06 ... 6.825e+06 6.825e+06\n",
       "    F            (Timestamp) float64 4.659e+04 4.658e+04 ... 4.706e+04 4.704e+04\n",
       "    F_CHAOS      (Timestamp) float64 4.659e+04 4.658e+04 ... 4.712e+04 4.71e+04\n",
       "    B_NEC        (Timestamp, dim) float64 1.036e+04 -187.3 ... -4.583e+04\n",
       "    B_NEC_CHAOS  (Timestamp, dim) float64 1.036e+04 -153.4 ... -4.592e+04\n",
       "Attributes:\n",
       "    Sources:         ['SW_OPER_MAGA_LR_1B_20180101T000000_20180101T235959_050...\n",
       "    MagneticModels:  [\"CHAOS = 'CHAOS-6-Core'(max_degree=20,min_degree=1)\"]\n",
       "    RangeFilters:    ['Flags_B:0,1', 'Flags_F:0,1']"
      ]
     },
     "execution_count": 5,
     "metadata": {},
     "output_type": "execute_result"
    }
   ],
   "source": [
    "data.as_xarray()"
   ]
  },
  {
   "cell_type": "markdown",
   "metadata": {},
   "source": [
    "# Three options suggested for how to deal with larger volumes"
   ]
  },
  {
   "cell_type": "markdown",
   "metadata": {},
   "source": [
    "# 1. Fetch five years of data and save them directly\n",
    "\n",
    "For this example I will simplify the acquired data"
   ]
  },
  {
   "cell_type": "code",
   "execution_count": 3,
   "metadata": {},
   "outputs": [],
   "source": [
    "request = SwarmRequest()\n",
    "request.set_collection(\"SW_OPER_MAGA_LR_1B\")  # Swarm Alpha\n",
    "request.set_products(\n",
    "    measurements=[\"F\"],\n",
    "    sampling_step=\"PT5S\"\n",
    ")\n",
    "# Quality Flags\n",
    "# https://earth.esa.int/web/guest/missions/esa-eo-missions/swarm/data-handbook/level-1b-product-definitions#label-Flags_F-and-Flags_B-Values-of-MDR_MAG_LR\n",
    "# NB: will need to do something different for Charlie because the ASM broke so Flags_F are bad\n",
    "request.set_range_filter(\"Flags_F\", 0, 1)\n",
    "request.set_range_filter(\"Flags_B\", 0, 1)"
   ]
  },
  {
   "cell_type": "markdown",
   "metadata": {},
   "source": [
    "The request is automatically split up and sequentially processed."
   ]
  },
  {
   "cell_type": "code",
   "execution_count": 7,
   "metadata": {},
   "outputs": [
    {
     "name": "stderr",
     "output_type": "stream",
     "text": [
      "[1/8] Processing:  100%|██████████|  [ Elapsed: 00:10, Remaining: 00:00 ]\n",
      "      Downloading: 100%|██████████|  [ Elapsed: 00:11, Remaining: 00:00 ] (165.873MB)\n",
      "[2/8] Processing:  100%|██████████|  [ Elapsed: 00:10, Remaining: 00:00 ]\n",
      "      Downloading: 100%|██████████|  [ Elapsed: 00:11, Remaining: 00:00 ] (174.037MB)\n",
      "[3/8] Processing:  100%|██████████|  [ Elapsed: 00:10, Remaining: 00:00 ]\n",
      "      Downloading: 100%|██████████|  [ Elapsed: 00:11, Remaining: 00:00 ] (174.4MB)\n",
      "[4/8] Processing:  100%|██████████|  [ Elapsed: 00:11, Remaining: 00:00 ]\n",
      "      Downloading: 100%|██████████|  [ Elapsed: 00:12, Remaining: 00:00 ] (174.176MB)\n",
      "[5/8] Processing:  100%|██████████|  [ Elapsed: 00:10, Remaining: 00:00 ]\n",
      "      Downloading: 100%|██████████|  [ Elapsed: 00:11, Remaining: 00:00 ] (173.071MB)\n",
      "[6/8] Processing:  100%|██████████|  [ Elapsed: 00:10, Remaining: 00:00 ]\n",
      "      Downloading: 100%|██████████|  [ Elapsed: 00:13, Remaining: 00:00 ] (174.317MB)\n",
      "[7/8] Processing:  100%|██████████|  [ Elapsed: 00:11, Remaining: 00:00 ]\n",
      "      Downloading: 100%|██████████|  [ Elapsed: 00:10, Remaining: 00:00 ] (172.158MB)\n",
      "[8/8] Processing:  100%|██████████|  [ Elapsed: 00:03, Remaining: 00:00 ]\n",
      "      Downloading: 100%|██████████|  [ Elapsed: 00:03, Remaining: 00:00 ] (52.349MB)\n"
     ]
    }
   ],
   "source": [
    "data = request.get_between(\n",
    "    start_time=dt.datetime(2014,1,1),\n",
    "    end_time=dt.datetime(2019,1,1)\n",
    ")"
   ]
  },
  {
   "cell_type": "markdown",
   "metadata": {},
   "source": [
    "`data` is a kind of wrapper around some temporary CDF files (more data -> more files). This means the data is accessible but not yet loaded into memory. When the variable `data` is deleted, or the current program is closed, the files will be removed. `data.contents` is a list of objects which point to each file, and each on-disk filename can be retrieved as below.\n",
    "\n",
    "Note that this behaviour is likely to change in the future."
   ]
  },
  {
   "cell_type": "code",
   "execution_count": 8,
   "metadata": {},
   "outputs": [
    {
     "data": {
      "text/plain": [
       "'/tmp/vires_dncjprgo'"
      ]
     },
     "execution_count": 8,
     "metadata": {},
     "output_type": "execute_result"
    }
   ],
   "source": [
    "data.contents[0]._file.name"
   ]
  },
  {
   "cell_type": "markdown",
   "metadata": {},
   "source": [
    "`data.as_dataframe()` / `data.as_xarray()` will read the files and concatenate them, but will fail if you don't have the memory to load them all simultaneously."
   ]
  },
  {
   "cell_type": "markdown",
   "metadata": {},
   "source": [
    "### Save the files directly\n",
    "\n",
    "The length of `data.contents` tells us the number of temporary files. Use this to make up some file names to give them."
   ]
  },
  {
   "cell_type": "code",
   "execution_count": 9,
   "metadata": {},
   "outputs": [
    {
     "data": {
      "text/plain": [
       "['testfile_000.cdf',\n",
       " 'testfile_001.cdf',\n",
       " 'testfile_002.cdf',\n",
       " 'testfile_003.cdf',\n",
       " 'testfile_004.cdf',\n",
       " 'testfile_005.cdf',\n",
       " 'testfile_006.cdf',\n",
       " 'testfile_007.cdf']"
      ]
     },
     "execution_count": 9,
     "metadata": {},
     "output_type": "execute_result"
    }
   ],
   "source": [
    "filenames = [f\"testfile_{n:03}.cdf\" for n in range(len(data.contents))]\n",
    "filenames"
   ]
  },
  {
   "cell_type": "code",
   "execution_count": 10,
   "metadata": {},
   "outputs": [
    {
     "name": "stdout",
     "output_type": "stream",
     "text": [
      "Data written to testfile_000.cdf\n",
      "Data written to testfile_001.cdf\n",
      "Data written to testfile_002.cdf\n",
      "Data written to testfile_003.cdf\n",
      "Data written to testfile_004.cdf\n",
      "Data written to testfile_005.cdf\n",
      "Data written to testfile_006.cdf\n",
      "Data written to testfile_007.cdf\n"
     ]
    }
   ],
   "source": [
    "data.to_files(filenames)"
   ]
  },
  {
   "cell_type": "markdown",
   "metadata": {},
   "source": [
    "From here you may use some other tool to work with the files. I will just remove them now:"
   ]
  },
  {
   "cell_type": "code",
   "execution_count": 11,
   "metadata": {},
   "outputs": [],
   "source": [
    "!rm testfile_*"
   ]
  },
  {
   "cell_type": "markdown",
   "metadata": {},
   "source": [
    "# 2. Tune the size of each generated file by making multiple requests manually\n",
    "\n",
    "Generate lists of start and end times to use..."
   ]
  },
  {
   "cell_type": "code",
   "execution_count": 12,
   "metadata": {},
   "outputs": [
    {
     "data": {
      "text/plain": [
       "[(datetime.datetime(2014, 1, 1, 0, 0), datetime.datetime(2014, 1, 2, 0, 0)),\n",
       " (datetime.datetime(2014, 1, 2, 0, 0), datetime.datetime(2014, 1, 3, 0, 0)),\n",
       " (datetime.datetime(2014, 1, 3, 0, 0), datetime.datetime(2014, 1, 4, 0, 0)),\n",
       " (datetime.datetime(2014, 1, 4, 0, 0), datetime.datetime(2014, 1, 5, 0, 0)),\n",
       " (datetime.datetime(2014, 1, 5, 0, 0), datetime.datetime(2014, 1, 6, 0, 0)),\n",
       " (datetime.datetime(2014, 1, 6, 0, 0), datetime.datetime(2014, 1, 7, 0, 0)),\n",
       " (datetime.datetime(2014, 1, 7, 0, 0), datetime.datetime(2014, 1, 8, 0, 0)),\n",
       " (datetime.datetime(2014, 1, 8, 0, 0), datetime.datetime(2014, 1, 9, 0, 0)),\n",
       " (datetime.datetime(2014, 1, 9, 0, 0), datetime.datetime(2014, 1, 10, 0, 0)),\n",
       " (datetime.datetime(2014, 1, 10, 0, 0), datetime.datetime(2014, 1, 11, 0, 0)),\n",
       " (datetime.datetime(2014, 1, 11, 0, 0), datetime.datetime(2014, 1, 12, 0, 0)),\n",
       " (datetime.datetime(2014, 1, 12, 0, 0), datetime.datetime(2014, 1, 13, 0, 0)),\n",
       " (datetime.datetime(2014, 1, 13, 0, 0), datetime.datetime(2014, 1, 14, 0, 0)),\n",
       " (datetime.datetime(2014, 1, 14, 0, 0), datetime.datetime(2014, 1, 15, 0, 0)),\n",
       " (datetime.datetime(2014, 1, 15, 0, 0), datetime.datetime(2014, 1, 16, 0, 0)),\n",
       " (datetime.datetime(2014, 1, 16, 0, 0), datetime.datetime(2014, 1, 17, 0, 0)),\n",
       " (datetime.datetime(2014, 1, 17, 0, 0), datetime.datetime(2014, 1, 18, 0, 0)),\n",
       " (datetime.datetime(2014, 1, 18, 0, 0), datetime.datetime(2014, 1, 19, 0, 0)),\n",
       " (datetime.datetime(2014, 1, 19, 0, 0), datetime.datetime(2014, 1, 20, 0, 0)),\n",
       " (datetime.datetime(2014, 1, 20, 0, 0), datetime.datetime(2014, 1, 21, 0, 0)),\n",
       " (datetime.datetime(2014, 1, 21, 0, 0), datetime.datetime(2014, 1, 22, 0, 0)),\n",
       " (datetime.datetime(2014, 1, 22, 0, 0), datetime.datetime(2014, 1, 23, 0, 0)),\n",
       " (datetime.datetime(2014, 1, 23, 0, 0), datetime.datetime(2014, 1, 24, 0, 0)),\n",
       " (datetime.datetime(2014, 1, 24, 0, 0), datetime.datetime(2014, 1, 25, 0, 0)),\n",
       " (datetime.datetime(2014, 1, 25, 0, 0), datetime.datetime(2014, 1, 26, 0, 0)),\n",
       " (datetime.datetime(2014, 1, 26, 0, 0), datetime.datetime(2014, 1, 27, 0, 0)),\n",
       " (datetime.datetime(2014, 1, 27, 0, 0), datetime.datetime(2014, 1, 28, 0, 0)),\n",
       " (datetime.datetime(2014, 1, 28, 0, 0), datetime.datetime(2014, 1, 29, 0, 0)),\n",
       " (datetime.datetime(2014, 1, 29, 0, 0), datetime.datetime(2014, 1, 30, 0, 0)),\n",
       " (datetime.datetime(2014, 1, 30, 0, 0), datetime.datetime(2014, 1, 31, 0, 0)),\n",
       " (datetime.datetime(2014, 1, 31, 0, 0), datetime.datetime(2014, 2, 1, 0, 0))]"
      ]
     },
     "execution_count": 12,
     "metadata": {},
     "output_type": "execute_result"
    }
   ],
   "source": [
    "start_times = []\n",
    "end_times = []\n",
    "start = dt.datetime(2014, 1, 1)\n",
    "end = start + dt.timedelta(days=1)\n",
    "while end <= dt.datetime(2014, 2, 1):\n",
    "#     print(start, end)\n",
    "    start_times.append(start)\n",
    "    end_times.append(end)\n",
    "    start, end = end, end + dt.timedelta(days=1)\n",
    "    \n",
    "list(zip(start_times, end_times))"
   ]
  },
  {
   "cell_type": "markdown",
   "metadata": {},
   "source": [
    "Generate some file names to use"
   ]
  },
  {
   "cell_type": "code",
   "execution_count": 13,
   "metadata": {},
   "outputs": [
    {
     "data": {
      "text/plain": [
       "['data_2014-01-01.cdf',\n",
       " 'data_2014-01-02.cdf',\n",
       " 'data_2014-01-03.cdf',\n",
       " 'data_2014-01-04.cdf',\n",
       " 'data_2014-01-05.cdf',\n",
       " 'data_2014-01-06.cdf',\n",
       " 'data_2014-01-07.cdf',\n",
       " 'data_2014-01-08.cdf',\n",
       " 'data_2014-01-09.cdf',\n",
       " 'data_2014-01-10.cdf',\n",
       " 'data_2014-01-11.cdf',\n",
       " 'data_2014-01-12.cdf',\n",
       " 'data_2014-01-13.cdf',\n",
       " 'data_2014-01-14.cdf',\n",
       " 'data_2014-01-15.cdf',\n",
       " 'data_2014-01-16.cdf',\n",
       " 'data_2014-01-17.cdf',\n",
       " 'data_2014-01-18.cdf',\n",
       " 'data_2014-01-19.cdf',\n",
       " 'data_2014-01-20.cdf',\n",
       " 'data_2014-01-21.cdf',\n",
       " 'data_2014-01-22.cdf',\n",
       " 'data_2014-01-23.cdf',\n",
       " 'data_2014-01-24.cdf',\n",
       " 'data_2014-01-25.cdf',\n",
       " 'data_2014-01-26.cdf',\n",
       " 'data_2014-01-27.cdf',\n",
       " 'data_2014-01-28.cdf',\n",
       " 'data_2014-01-29.cdf',\n",
       " 'data_2014-01-30.cdf',\n",
       " 'data_2014-01-31.cdf']"
      ]
     },
     "execution_count": 13,
     "metadata": {},
     "output_type": "execute_result"
    }
   ],
   "source": [
    "filenames = [f\"data_{start.strftime('%Y-%m-%d')}.cdf\" for start in start_times]\n",
    "filenames"
   ]
  },
  {
   "cell_type": "markdown",
   "metadata": {},
   "source": [
    "### NB: BUG: the server request is failing on some days when there is no data available for the whole day (at least I think that is the problem...) - catch these with a RuntimeError"
   ]
  },
  {
   "cell_type": "code",
   "execution_count": 14,
   "metadata": {},
   "outputs": [
    {
     "name": "stderr",
     "output_type": "stream",
     "text": [
      "[1/1] Processing:  100%|██████████|  [ Elapsed: 00:01, Remaining: 00:00 ]\n",
      "      Downloading: 100%|██████████|  [ Elapsed: 00:00, Remaining: 00:00 ] (0.703MB)\n",
      "[1/1] Processing:    0%|          |  [ Elapsed: 00:00, Remaining: ? ]"
     ]
    },
    {
     "name": "stdout",
     "output_type": "stream",
     "text": [
      "Data written to data_2014-01-01.cdf\n"
     ]
    },
    {
     "name": "stderr",
     "output_type": "stream",
     "text": [
      "[1/1] Processing:  100%|██████████|  [ Elapsed: 00:01, Remaining: 00:00 ]\n",
      "      Downloading: 100%|██████████|  [ Elapsed: 00:00, Remaining: 00:00 ] (0.703MB)\n",
      "[1/1] Processing:    0%|          |  [ Elapsed: 00:00, Remaining: ? ]"
     ]
    },
    {
     "name": "stdout",
     "output_type": "stream",
     "text": [
      "Data written to data_2014-01-02.cdf\n"
     ]
    },
    {
     "name": "stderr",
     "output_type": "stream",
     "text": [
      "[1/1] Processing:  100%|██████████|  [ Elapsed: 00:01, Remaining: 00:00 ]\n",
      "      Downloading: 100%|██████████|  [ Elapsed: 00:00, Remaining: 00:00 ] (0.702MB)\n",
      "[1/1] Processing:    0%|          |  [ Elapsed: 00:00, Remaining: ? ]"
     ]
    },
    {
     "name": "stdout",
     "output_type": "stream",
     "text": [
      "Data written to data_2014-01-03.cdf\n"
     ]
    },
    {
     "name": "stderr",
     "output_type": "stream",
     "text": [
      "[1/1] Processing:  100%|██████████|  [ Elapsed: 00:01, Remaining: 00:00 ]\n",
      "      Downloading: 100%|██████████|  [ Elapsed: 00:00, Remaining: 00:00 ] (0.271MB)\n",
      "[1/1] Processing:    0%|          |  [ Elapsed: 00:00, Remaining: ? ]"
     ]
    },
    {
     "name": "stdout",
     "output_type": "stream",
     "text": [
      "Data written to data_2014-01-04.cdf\n"
     ]
    },
    {
     "name": "stderr",
     "output_type": "stream",
     "text": [
      "\n",
      "[1/1] Processing:    0%|          |  [ Elapsed: 00:00, Remaining: ? ]"
     ]
    },
    {
     "name": "stdout",
     "output_type": "stream",
     "text": [
      "No data for data_2014-01-05.cdf - file not created\n"
     ]
    },
    {
     "name": "stderr",
     "output_type": "stream",
     "text": [
      "\n",
      "[1/1] Processing:    0%|          |  [ Elapsed: 00:00, Remaining: ? ]"
     ]
    },
    {
     "name": "stdout",
     "output_type": "stream",
     "text": [
      "No data for data_2014-01-06.cdf - file not created\n"
     ]
    },
    {
     "name": "stderr",
     "output_type": "stream",
     "text": [
      "[1/1] Processing:  100%|██████████|  [ Elapsed: 00:01, Remaining: 00:00 ]\n",
      "      Downloading: 100%|██████████|  [ Elapsed: 00:00, Remaining: 00:00 ] (0.137MB)\n",
      "[1/1] Processing:    0%|          |  [ Elapsed: 00:00, Remaining: ? ]"
     ]
    },
    {
     "name": "stdout",
     "output_type": "stream",
     "text": [
      "Data written to data_2014-01-07.cdf\n"
     ]
    },
    {
     "name": "stderr",
     "output_type": "stream",
     "text": [
      "[1/1] Processing:  100%|██████████|  [ Elapsed: 00:01, Remaining: 00:00 ]\n",
      "      Downloading: 100%|██████████|  [ Elapsed: 00:00, Remaining: 00:00 ] (0.264MB)\n",
      "[1/1] Processing:    0%|          |  [ Elapsed: 00:00, Remaining: ? ]"
     ]
    },
    {
     "name": "stdout",
     "output_type": "stream",
     "text": [
      "Data written to data_2014-01-08.cdf\n"
     ]
    },
    {
     "name": "stderr",
     "output_type": "stream",
     "text": [
      "[1/1] Processing:  100%|██████████|  [ Elapsed: 00:01, Remaining: 00:00 ]\n",
      "      Downloading: 100%|██████████|  [ Elapsed: 00:00, Remaining: 00:00 ] (0.698MB)\n",
      "[1/1] Processing:    0%|          |  [ Elapsed: 00:00, Remaining: ? ]"
     ]
    },
    {
     "name": "stdout",
     "output_type": "stream",
     "text": [
      "Data written to data_2014-01-09.cdf\n"
     ]
    },
    {
     "name": "stderr",
     "output_type": "stream",
     "text": [
      "[1/1] Processing:  100%|██████████|  [ Elapsed: 00:01, Remaining: 00:00 ]\n",
      "      Downloading: 100%|██████████|  [ Elapsed: 00:00, Remaining: 00:00 ] (0.699MB)\n",
      "[1/1] Processing:    0%|          |  [ Elapsed: 00:00, Remaining: ? ]"
     ]
    },
    {
     "name": "stdout",
     "output_type": "stream",
     "text": [
      "Data written to data_2014-01-10.cdf\n"
     ]
    },
    {
     "name": "stderr",
     "output_type": "stream",
     "text": [
      "[1/1] Processing:  100%|██████████|  [ Elapsed: 00:01, Remaining: 00:00 ]\n",
      "      Downloading: 100%|██████████|  [ Elapsed: 00:00, Remaining: 00:00 ] (0.698MB)\n",
      "[1/1] Processing:    0%|          |  [ Elapsed: 00:00, Remaining: ? ]"
     ]
    },
    {
     "name": "stdout",
     "output_type": "stream",
     "text": [
      "Data written to data_2014-01-11.cdf\n"
     ]
    },
    {
     "name": "stderr",
     "output_type": "stream",
     "text": [
      "[1/1] Processing:  100%|██████████|  [ Elapsed: 00:01, Remaining: 00:00 ]\n",
      "      Downloading: 100%|██████████|  [ Elapsed: 00:00, Remaining: 00:00 ] (0.703MB)\n",
      "[1/1] Processing:    0%|          |  [ Elapsed: 00:00, Remaining: ? ]"
     ]
    },
    {
     "name": "stdout",
     "output_type": "stream",
     "text": [
      "Data written to data_2014-01-12.cdf\n"
     ]
    },
    {
     "name": "stderr",
     "output_type": "stream",
     "text": [
      "[1/1] Processing:  100%|██████████|  [ Elapsed: 00:01, Remaining: 00:00 ]\n",
      "      Downloading: 100%|██████████|  [ Elapsed: 00:00, Remaining: 00:00 ] (0.703MB)\n",
      "[1/1] Processing:    0%|          |  [ Elapsed: 00:00, Remaining: ? ]"
     ]
    },
    {
     "name": "stdout",
     "output_type": "stream",
     "text": [
      "Data written to data_2014-01-13.cdf\n"
     ]
    },
    {
     "name": "stderr",
     "output_type": "stream",
     "text": [
      "[1/1] Processing:  100%|██████████|  [ Elapsed: 00:01, Remaining: 00:00 ]\n",
      "      Downloading: 100%|██████████|  [ Elapsed: 00:00, Remaining: 00:00 ] (0.698MB)\n",
      "[1/1] Processing:    0%|          |  [ Elapsed: 00:00, Remaining: ? ]"
     ]
    },
    {
     "name": "stdout",
     "output_type": "stream",
     "text": [
      "Data written to data_2014-01-14.cdf\n"
     ]
    },
    {
     "name": "stderr",
     "output_type": "stream",
     "text": [
      "[1/1] Processing:  100%|██████████|  [ Elapsed: 00:01, Remaining: 00:00 ]\n",
      "      Downloading: 100%|██████████|  [ Elapsed: 00:00, Remaining: 00:00 ] (0.703MB)\n",
      "[1/1] Processing:    0%|          |  [ Elapsed: 00:00, Remaining: ? ]"
     ]
    },
    {
     "name": "stdout",
     "output_type": "stream",
     "text": [
      "Data written to data_2014-01-15.cdf\n"
     ]
    },
    {
     "name": "stderr",
     "output_type": "stream",
     "text": [
      "[1/1] Processing:  100%|██████████|  [ Elapsed: 00:01, Remaining: 00:00 ]\n",
      "      Downloading: 100%|██████████|  [ Elapsed: 00:00, Remaining: 00:00 ] (0.691MB)\n",
      "[1/1] Processing:    0%|          |  [ Elapsed: 00:00, Remaining: ? ]"
     ]
    },
    {
     "name": "stdout",
     "output_type": "stream",
     "text": [
      "Data written to data_2014-01-16.cdf\n"
     ]
    },
    {
     "name": "stderr",
     "output_type": "stream",
     "text": [
      "[1/1] Processing:  100%|██████████|  [ Elapsed: 00:01, Remaining: 00:00 ]\n",
      "      Downloading: 100%|██████████|  [ Elapsed: 00:00, Remaining: 00:00 ] (0.703MB)\n",
      "[1/1] Processing:    0%|          |  [ Elapsed: 00:00, Remaining: ? ]"
     ]
    },
    {
     "name": "stdout",
     "output_type": "stream",
     "text": [
      "Data written to data_2014-01-17.cdf\n"
     ]
    },
    {
     "name": "stderr",
     "output_type": "stream",
     "text": [
      "[1/1] Processing:  100%|██████████|  [ Elapsed: 00:01, Remaining: 00:00 ]\n",
      "      Downloading: 100%|██████████|  [ Elapsed: 00:00, Remaining: 00:00 ] (0.696MB)\n",
      "[1/1] Processing:    0%|          |  [ Elapsed: 00:00, Remaining: ? ]"
     ]
    },
    {
     "name": "stdout",
     "output_type": "stream",
     "text": [
      "Data written to data_2014-01-18.cdf\n"
     ]
    },
    {
     "name": "stderr",
     "output_type": "stream",
     "text": [
      "[1/1] Processing:  100%|██████████|  [ Elapsed: 00:01, Remaining: 00:00 ]\n",
      "      Downloading: 100%|██████████|  [ Elapsed: 00:00, Remaining: 00:00 ] (0.004MB)\n",
      "[1/1] Processing:    0%|          |  [ Elapsed: 00:00, Remaining: ? ]"
     ]
    },
    {
     "name": "stdout",
     "output_type": "stream",
     "text": [
      "Data written to data_2014-01-19.cdf\n"
     ]
    },
    {
     "name": "stderr",
     "output_type": "stream",
     "text": [
      "[1/1] Processing:  100%|██████████|  [ Elapsed: 00:01, Remaining: 00:00 ]\n",
      "      Downloading: 100%|██████████|  [ Elapsed: 00:00, Remaining: 00:00 ] (0.701MB)\n",
      "[1/1] Processing:    0%|          |  [ Elapsed: 00:00, Remaining: ? ]"
     ]
    },
    {
     "name": "stdout",
     "output_type": "stream",
     "text": [
      "Data written to data_2014-01-20.cdf\n"
     ]
    },
    {
     "name": "stderr",
     "output_type": "stream",
     "text": [
      "[1/1] Processing:  100%|██████████|  [ Elapsed: 00:01, Remaining: 00:00 ]\n",
      "      Downloading: 100%|██████████|  [ Elapsed: 00:00, Remaining: 00:00 ] (0.695MB)\n",
      "[1/1] Processing:    0%|          |  [ Elapsed: 00:00, Remaining: ? ]"
     ]
    },
    {
     "name": "stdout",
     "output_type": "stream",
     "text": [
      "Data written to data_2014-01-21.cdf\n"
     ]
    },
    {
     "name": "stderr",
     "output_type": "stream",
     "text": [
      "[1/1] Processing:  100%|██████████|  [ Elapsed: 00:01, Remaining: 00:00 ]\n",
      "      Downloading: 100%|██████████|  [ Elapsed: 00:00, Remaining: 00:00 ] (0.679MB)\n",
      "[1/1] Processing:    0%|          |  [ Elapsed: 00:00, Remaining: ? ]"
     ]
    },
    {
     "name": "stdout",
     "output_type": "stream",
     "text": [
      "Data written to data_2014-01-22.cdf\n"
     ]
    },
    {
     "name": "stderr",
     "output_type": "stream",
     "text": [
      "[1/1] Processing:  100%|██████████|  [ Elapsed: 00:01, Remaining: 00:00 ]\n",
      "      Downloading: 100%|██████████|  [ Elapsed: 00:00, Remaining: 00:00 ] (0.628MB)\n",
      "[1/1] Processing:    0%|          |  [ Elapsed: 00:00, Remaining: ? ]"
     ]
    },
    {
     "name": "stdout",
     "output_type": "stream",
     "text": [
      "Data written to data_2014-01-23.cdf\n"
     ]
    },
    {
     "name": "stderr",
     "output_type": "stream",
     "text": [
      "[1/1] Processing:  100%|██████████|  [ Elapsed: 00:01, Remaining: 00:00 ]\n",
      "      Downloading: 100%|██████████|  [ Elapsed: 00:00, Remaining: 00:00 ] (0.613MB)\n",
      "[1/1] Processing:    0%|          |  [ Elapsed: 00:00, Remaining: ? ]"
     ]
    },
    {
     "name": "stdout",
     "output_type": "stream",
     "text": [
      "Data written to data_2014-01-24.cdf\n"
     ]
    },
    {
     "name": "stderr",
     "output_type": "stream",
     "text": [
      "[1/1] Processing:  100%|██████████|  [ Elapsed: 00:01, Remaining: 00:00 ]\n",
      "      Downloading: 100%|██████████|  [ Elapsed: 00:00, Remaining: 00:00 ] (0.703MB)\n",
      "[1/1] Processing:    0%|          |  [ Elapsed: 00:00, Remaining: ? ]"
     ]
    },
    {
     "name": "stdout",
     "output_type": "stream",
     "text": [
      "Data written to data_2014-01-25.cdf\n"
     ]
    },
    {
     "name": "stderr",
     "output_type": "stream",
     "text": [
      "[1/1] Processing:  100%|██████████|  [ Elapsed: 00:01, Remaining: 00:00 ]\n",
      "      Downloading: 100%|██████████|  [ Elapsed: 00:00, Remaining: 00:00 ] (0.703MB)\n",
      "[1/1] Processing:    0%|          |  [ Elapsed: 00:00, Remaining: ? ]"
     ]
    },
    {
     "name": "stdout",
     "output_type": "stream",
     "text": [
      "Data written to data_2014-01-26.cdf\n"
     ]
    },
    {
     "name": "stderr",
     "output_type": "stream",
     "text": [
      "[1/1] Processing:  100%|██████████|  [ Elapsed: 00:01, Remaining: 00:00 ]\n",
      "      Downloading: 100%|██████████|  [ Elapsed: 00:00, Remaining: 00:00 ] (0.708MB)\n",
      "[1/1] Processing:    0%|          |  [ Elapsed: 00:00, Remaining: ? ]"
     ]
    },
    {
     "name": "stdout",
     "output_type": "stream",
     "text": [
      "Data written to data_2014-01-27.cdf\n"
     ]
    },
    {
     "name": "stderr",
     "output_type": "stream",
     "text": [
      "[1/1] Processing:  100%|██████████|  [ Elapsed: 00:01, Remaining: 00:00 ]\n",
      "      Downloading: 100%|██████████|  [ Elapsed: 00:00, Remaining: 00:00 ] (0.5MB)\n",
      "[1/1] Processing:    0%|          |  [ Elapsed: 00:00, Remaining: ? ]"
     ]
    },
    {
     "name": "stdout",
     "output_type": "stream",
     "text": [
      "Data written to data_2014-01-28.cdf\n"
     ]
    },
    {
     "name": "stderr",
     "output_type": "stream",
     "text": [
      "[1/1] Processing:  100%|██████████|  [ Elapsed: 00:01, Remaining: 00:00 ]\n",
      "      Downloading: 100%|██████████|  [ Elapsed: 00:00, Remaining: 00:00 ] (0.494MB)\n",
      "[1/1] Processing:    0%|          |  [ Elapsed: 00:00, Remaining: ? ]"
     ]
    },
    {
     "name": "stdout",
     "output_type": "stream",
     "text": [
      "Data written to data_2014-01-29.cdf\n"
     ]
    },
    {
     "name": "stderr",
     "output_type": "stream",
     "text": [
      "[1/1] Processing:  100%|██████████|  [ Elapsed: 00:01, Remaining: 00:00 ]\n",
      "      Downloading: 100%|██████████|  [ Elapsed: 00:00, Remaining: 00:00 ] (0.703MB)\n",
      "[1/1] Processing:    0%|          |  [ Elapsed: 00:00, Remaining: ? ]"
     ]
    },
    {
     "name": "stdout",
     "output_type": "stream",
     "text": [
      "Data written to data_2014-01-30.cdf\n"
     ]
    },
    {
     "name": "stderr",
     "output_type": "stream",
     "text": [
      "[1/1] Processing:  100%|██████████|  [ Elapsed: 00:01, Remaining: 00:00 ]\n",
      "      Downloading: 100%|██████████|  [ Elapsed: 00:00, Remaining: 00:00 ] (0.674MB)\n"
     ]
    },
    {
     "name": "stdout",
     "output_type": "stream",
     "text": [
      "Data written to data_2014-01-31.cdf\n"
     ]
    }
   ],
   "source": [
    "for start, end, filename in zip(start_times, end_times, filenames):\n",
    "    try:\n",
    "        request.get_between(start, end).to_file(filename, overwrite=True)\n",
    "    except RuntimeError:\n",
    "        print(f\"No data for {filename} - file not created\")"
   ]
  },
  {
   "cell_type": "code",
   "execution_count": 15,
   "metadata": {},
   "outputs": [],
   "source": [
    "!rm data_2014*.cdf"
   ]
  },
  {
   "cell_type": "markdown",
   "metadata": {},
   "source": [
    "# 3. Use viresclient to translate the data from CDF to pandas/xarray then to netCDF\n",
    "\n",
    "There are some nicer tools for working with netCDF4/HDF files in Python so this may be preferable\n",
    "\n",
    "### NB: when there is no data, sometimes there's a RuntimeError (i.e. server issue), or the created xarray Dataset is actually `None` (maybe an undesired outcome?) - catch these with AttributeError when trying to `.to_netcdf()`"
   ]
  },
  {
   "cell_type": "code",
   "execution_count": 17,
   "metadata": {},
   "outputs": [
    {
     "name": "stderr",
     "output_type": "stream",
     "text": [
      "[1/1] Processing:  100%|██████████|  [ Elapsed: 00:01, Remaining: 00:00 ]\n",
      "      Downloading: 100%|██████████|  [ Elapsed: 00:00, Remaining: 00:00 ] (0.703MB)\n"
     ]
    },
    {
     "name": "stdout",
     "output_type": "stream",
     "text": [
      "saved data_2014-01-01.nc\n"
     ]
    },
    {
     "name": "stderr",
     "output_type": "stream",
     "text": [
      "[1/1] Processing:  100%|██████████|  [ Elapsed: 00:01, Remaining: 00:00 ]\n",
      "      Downloading: 100%|██████████|  [ Elapsed: 00:00, Remaining: 00:00 ] (0.703MB)\n"
     ]
    },
    {
     "name": "stdout",
     "output_type": "stream",
     "text": [
      "saved data_2014-01-02.nc\n"
     ]
    },
    {
     "name": "stderr",
     "output_type": "stream",
     "text": [
      "[1/1] Processing:  100%|██████████|  [ Elapsed: 00:01, Remaining: 00:00 ]\n",
      "      Downloading: 100%|██████████|  [ Elapsed: 00:00, Remaining: 00:00 ] (0.702MB)\n"
     ]
    },
    {
     "name": "stdout",
     "output_type": "stream",
     "text": [
      "saved data_2014-01-03.nc\n"
     ]
    },
    {
     "name": "stderr",
     "output_type": "stream",
     "text": [
      "[1/1] Processing:  100%|██████████|  [ Elapsed: 00:01, Remaining: 00:00 ]\n",
      "      Downloading: 100%|██████████|  [ Elapsed: 00:00, Remaining: 00:00 ] (0.271MB)\n",
      "[1/1] Processing:    0%|          |  [ Elapsed: 00:00, Remaining: ? ]"
     ]
    },
    {
     "name": "stdout",
     "output_type": "stream",
     "text": [
      "saved data_2014-01-04.nc\n"
     ]
    },
    {
     "name": "stderr",
     "output_type": "stream",
     "text": [
      "\n",
      "[1/1] Processing:    0%|          |  [ Elapsed: 00:00, Remaining: ? ]"
     ]
    },
    {
     "name": "stdout",
     "output_type": "stream",
     "text": [
      "No data for data_2014-01-05.nc - data not downloaded\n"
     ]
    },
    {
     "name": "stderr",
     "output_type": "stream",
     "text": [
      "\n",
      "[1/1] Processing:    0%|          |  [ Elapsed: 00:00, Remaining: ? ]"
     ]
    },
    {
     "name": "stdout",
     "output_type": "stream",
     "text": [
      "No data for data_2014-01-06.nc - data not downloaded\n"
     ]
    },
    {
     "name": "stderr",
     "output_type": "stream",
     "text": [
      "[1/1] Processing:  100%|██████████|  [ Elapsed: 00:01, Remaining: 00:00 ]\n",
      "      Downloading: 100%|██████████|  [ Elapsed: 00:00, Remaining: 00:00 ] (0.137MB)\n",
      "[1/1] Processing:    0%|          |  [ Elapsed: 00:00, Remaining: ? ]"
     ]
    },
    {
     "name": "stdout",
     "output_type": "stream",
     "text": [
      "saved data_2014-01-07.nc\n"
     ]
    },
    {
     "name": "stderr",
     "output_type": "stream",
     "text": [
      "[1/1] Processing:  100%|██████████|  [ Elapsed: 00:01, Remaining: 00:00 ]\n",
      "      Downloading: 100%|██████████|  [ Elapsed: 00:00, Remaining: 00:00 ] (0.264MB)\n",
      "[1/1] Processing:    0%|          |  [ Elapsed: 00:00, Remaining: ? ]"
     ]
    },
    {
     "name": "stdout",
     "output_type": "stream",
     "text": [
      "saved data_2014-01-08.nc\n"
     ]
    },
    {
     "name": "stderr",
     "output_type": "stream",
     "text": [
      "[1/1] Processing:  100%|██████████|  [ Elapsed: 00:01, Remaining: 00:00 ]\n",
      "      Downloading: 100%|██████████|  [ Elapsed: 00:00, Remaining: 00:00 ] (0.698MB)\n"
     ]
    },
    {
     "name": "stdout",
     "output_type": "stream",
     "text": [
      "saved data_2014-01-09.nc\n"
     ]
    },
    {
     "name": "stderr",
     "output_type": "stream",
     "text": [
      "[1/1] Processing:  100%|██████████|  [ Elapsed: 00:01, Remaining: 00:00 ]\n",
      "      Downloading: 100%|██████████|  [ Elapsed: 00:00, Remaining: 00:00 ] (0.699MB)\n"
     ]
    },
    {
     "name": "stdout",
     "output_type": "stream",
     "text": [
      "saved data_2014-01-10.nc\n"
     ]
    },
    {
     "name": "stderr",
     "output_type": "stream",
     "text": [
      "[1/1] Processing:  100%|██████████|  [ Elapsed: 00:01, Remaining: 00:00 ]\n",
      "      Downloading: 100%|██████████|  [ Elapsed: 00:00, Remaining: 00:00 ] (0.698MB)\n"
     ]
    },
    {
     "name": "stdout",
     "output_type": "stream",
     "text": [
      "saved data_2014-01-11.nc\n"
     ]
    },
    {
     "name": "stderr",
     "output_type": "stream",
     "text": [
      "[1/1] Processing:  100%|██████████|  [ Elapsed: 00:01, Remaining: 00:00 ]\n",
      "      Downloading: 100%|██████████|  [ Elapsed: 00:00, Remaining: 00:00 ] (0.703MB)\n"
     ]
    },
    {
     "name": "stdout",
     "output_type": "stream",
     "text": [
      "saved data_2014-01-12.nc\n"
     ]
    },
    {
     "name": "stderr",
     "output_type": "stream",
     "text": [
      "[1/1] Processing:  100%|██████████|  [ Elapsed: 00:01, Remaining: 00:00 ]\n",
      "      Downloading: 100%|██████████|  [ Elapsed: 00:00, Remaining: 00:00 ] (0.703MB)\n"
     ]
    },
    {
     "name": "stdout",
     "output_type": "stream",
     "text": [
      "saved data_2014-01-13.nc\n"
     ]
    },
    {
     "name": "stderr",
     "output_type": "stream",
     "text": [
      "[1/1] Processing:  100%|██████████|  [ Elapsed: 00:01, Remaining: 00:00 ]\n",
      "      Downloading: 100%|██████████|  [ Elapsed: 00:00, Remaining: 00:00 ] (0.698MB)\n"
     ]
    },
    {
     "name": "stdout",
     "output_type": "stream",
     "text": [
      "saved data_2014-01-14.nc\n"
     ]
    },
    {
     "name": "stderr",
     "output_type": "stream",
     "text": [
      "[1/1] Processing:  100%|██████████|  [ Elapsed: 00:01, Remaining: 00:00 ]\n",
      "      Downloading: 100%|██████████|  [ Elapsed: 00:00, Remaining: 00:00 ] (0.703MB)\n"
     ]
    },
    {
     "name": "stdout",
     "output_type": "stream",
     "text": [
      "saved data_2014-01-15.nc\n"
     ]
    },
    {
     "name": "stderr",
     "output_type": "stream",
     "text": [
      "[1/1] Processing:  100%|██████████|  [ Elapsed: 00:01, Remaining: 00:00 ]\n",
      "      Downloading: 100%|██████████|  [ Elapsed: 00:00, Remaining: 00:00 ] (0.691MB)\n"
     ]
    },
    {
     "name": "stdout",
     "output_type": "stream",
     "text": [
      "saved data_2014-01-16.nc\n"
     ]
    },
    {
     "name": "stderr",
     "output_type": "stream",
     "text": [
      "[1/1] Processing:  100%|██████████|  [ Elapsed: 00:01, Remaining: 00:00 ]\n",
      "      Downloading: 100%|██████████|  [ Elapsed: 00:00, Remaining: 00:00 ] (0.703MB)\n"
     ]
    },
    {
     "name": "stdout",
     "output_type": "stream",
     "text": [
      "saved data_2014-01-17.nc\n"
     ]
    },
    {
     "name": "stderr",
     "output_type": "stream",
     "text": [
      "[1/1] Processing:  100%|██████████|  [ Elapsed: 00:01, Remaining: 00:00 ]\n",
      "      Downloading: 100%|██████████|  [ Elapsed: 00:00, Remaining: 00:00 ] (0.696MB)\n"
     ]
    },
    {
     "name": "stdout",
     "output_type": "stream",
     "text": [
      "saved data_2014-01-18.nc\n"
     ]
    },
    {
     "name": "stderr",
     "output_type": "stream",
     "text": [
      "[1/1] Processing:  100%|██████████|  [ Elapsed: 00:01, Remaining: 00:00 ]\n",
      "      Downloading: 100%|██████████|  [ Elapsed: 00:00, Remaining: 00:00 ] (0.004MB)\n",
      "[1/1] Processing:    0%|          |  [ Elapsed: 00:00, Remaining: ? ]"
     ]
    },
    {
     "name": "stdout",
     "output_type": "stream",
     "text": [
      "Warning:  Unable to create dataset from part 1 of 1 \n",
      "(This part is likely empty)\n",
      "saved data_2014-01-19.nc\n",
      "No data for data_2014-01-19.nc - file not created\n"
     ]
    },
    {
     "name": "stderr",
     "output_type": "stream",
     "text": [
      "[1/1] Processing:  100%|██████████|  [ Elapsed: 00:01, Remaining: 00:00 ]\n",
      "      Downloading: 100%|██████████|  [ Elapsed: 00:00, Remaining: 00:00 ] (0.701MB)\n"
     ]
    },
    {
     "name": "stdout",
     "output_type": "stream",
     "text": [
      "saved data_2014-01-20.nc\n"
     ]
    },
    {
     "name": "stderr",
     "output_type": "stream",
     "text": [
      "[1/1] Processing:  100%|██████████|  [ Elapsed: 00:01, Remaining: 00:00 ]\n",
      "      Downloading: 100%|██████████|  [ Elapsed: 00:00, Remaining: 00:00 ] (0.695MB)\n"
     ]
    },
    {
     "name": "stdout",
     "output_type": "stream",
     "text": [
      "saved data_2014-01-21.nc\n"
     ]
    },
    {
     "name": "stderr",
     "output_type": "stream",
     "text": [
      "[1/1] Processing:  100%|██████████|  [ Elapsed: 00:01, Remaining: 00:00 ]\n",
      "      Downloading: 100%|██████████|  [ Elapsed: 00:00, Remaining: 00:00 ] (0.679MB)\n"
     ]
    },
    {
     "name": "stdout",
     "output_type": "stream",
     "text": [
      "saved data_2014-01-22.nc\n"
     ]
    },
    {
     "name": "stderr",
     "output_type": "stream",
     "text": [
      "[1/1] Processing:  100%|██████████|  [ Elapsed: 00:01, Remaining: 00:00 ]\n",
      "      Downloading: 100%|██████████|  [ Elapsed: 00:00, Remaining: 00:00 ] (0.628MB)\n"
     ]
    },
    {
     "name": "stdout",
     "output_type": "stream",
     "text": [
      "saved data_2014-01-23.nc\n"
     ]
    },
    {
     "name": "stderr",
     "output_type": "stream",
     "text": [
      "[1/1] Processing:  100%|██████████|  [ Elapsed: 00:01, Remaining: 00:00 ]\n",
      "      Downloading: 100%|██████████|  [ Elapsed: 00:00, Remaining: 00:00 ] (0.613MB)\n"
     ]
    },
    {
     "name": "stdout",
     "output_type": "stream",
     "text": [
      "saved data_2014-01-24.nc\n"
     ]
    },
    {
     "name": "stderr",
     "output_type": "stream",
     "text": [
      "[1/1] Processing:  100%|██████████|  [ Elapsed: 00:01, Remaining: 00:00 ]\n",
      "      Downloading: 100%|██████████|  [ Elapsed: 00:00, Remaining: 00:00 ] (0.703MB)\n"
     ]
    },
    {
     "name": "stdout",
     "output_type": "stream",
     "text": [
      "saved data_2014-01-25.nc\n"
     ]
    },
    {
     "name": "stderr",
     "output_type": "stream",
     "text": [
      "[1/1] Processing:  100%|██████████|  [ Elapsed: 00:01, Remaining: 00:00 ]\n",
      "      Downloading: 100%|██████████|  [ Elapsed: 00:00, Remaining: 00:00 ] (0.703MB)\n"
     ]
    },
    {
     "name": "stdout",
     "output_type": "stream",
     "text": [
      "saved data_2014-01-26.nc\n"
     ]
    },
    {
     "name": "stderr",
     "output_type": "stream",
     "text": [
      "[1/1] Processing:  100%|██████████|  [ Elapsed: 00:01, Remaining: 00:00 ]\n",
      "      Downloading: 100%|██████████|  [ Elapsed: 00:00, Remaining: 00:00 ] (0.708MB)\n"
     ]
    },
    {
     "name": "stdout",
     "output_type": "stream",
     "text": [
      "saved data_2014-01-27.nc\n"
     ]
    },
    {
     "name": "stderr",
     "output_type": "stream",
     "text": [
      "[1/1] Processing:  100%|██████████|  [ Elapsed: 00:01, Remaining: 00:00 ]\n",
      "      Downloading: 100%|██████████|  [ Elapsed: 00:00, Remaining: 00:00 ] (0.5MB)\n"
     ]
    },
    {
     "name": "stdout",
     "output_type": "stream",
     "text": [
      "saved data_2014-01-28.nc\n"
     ]
    },
    {
     "name": "stderr",
     "output_type": "stream",
     "text": [
      "[1/1] Processing:  100%|██████████|  [ Elapsed: 00:01, Remaining: 00:00 ]\n",
      "      Downloading: 100%|██████████|  [ Elapsed: 00:00, Remaining: 00:00 ] (0.494MB)\n"
     ]
    },
    {
     "name": "stdout",
     "output_type": "stream",
     "text": [
      "saved data_2014-01-29.nc\n"
     ]
    },
    {
     "name": "stderr",
     "output_type": "stream",
     "text": [
      "[1/1] Processing:  100%|██████████|  [ Elapsed: 00:01, Remaining: 00:00 ]\n",
      "      Downloading: 100%|██████████|  [ Elapsed: 00:00, Remaining: 00:00 ] (0.703MB)\n"
     ]
    },
    {
     "name": "stdout",
     "output_type": "stream",
     "text": [
      "saved data_2014-01-30.nc\n"
     ]
    },
    {
     "name": "stderr",
     "output_type": "stream",
     "text": [
      "[1/1] Processing:  100%|██████████|  [ Elapsed: 00:01, Remaining: 00:00 ]\n",
      "      Downloading: 100%|██████████|  [ Elapsed: 00:00, Remaining: 00:00 ] (0.674MB)\n"
     ]
    },
    {
     "name": "stdout",
     "output_type": "stream",
     "text": [
      "saved data_2014-01-31.nc\n"
     ]
    }
   ],
   "source": [
    "filenames_nc = [f\"data_{start.strftime('%Y-%m-%d')}.nc\" for start in start_times]\n",
    "\n",
    "for start, end, filename in zip(start_times, end_times, filenames_nc):\n",
    "    try:\n",
    "        ds = request.get_between(start, end).as_xarray()\n",
    "        print(f\"saved {filename}\")\n",
    "    except RuntimeError:\n",
    "        print(f\"No data for {filename} - data not downloaded\")\n",
    "    try:\n",
    "        ds.to_netcdf(filename)\n",
    "    except AttributeError:\n",
    "        print(f\"No data for {filename} - file not created\")"
   ]
  },
  {
   "cell_type": "markdown",
   "metadata": {},
   "source": [
    "### Use xarray+dask to lazily load the data\n",
    "\n",
    "See https://xarray.pydata.org/en/stable/dask.html"
   ]
  },
  {
   "cell_type": "code",
   "execution_count": 18,
   "metadata": {},
   "outputs": [],
   "source": [
    "from xarray import open_mfdataset\n",
    "%matplotlib inline"
   ]
  },
  {
   "cell_type": "code",
   "execution_count": 20,
   "metadata": {},
   "outputs": [
    {
     "data": {
      "text/plain": [
       "<xarray.Dataset>\n",
       "Dimensions:     (Timestamp: 425322)\n",
       "Coordinates:\n",
       "  * Timestamp   (Timestamp) datetime64[ns] 2014-01-01 ... 2014-01-31T23:59:55\n",
       "Data variables:\n",
       "    Spacecraft  (Timestamp) object dask.array<shape=(425322,), chunksize=(17038,)>\n",
       "    Latitude    (Timestamp) float64 dask.array<shape=(425322,), chunksize=(17038,)>\n",
       "    Longitude   (Timestamp) float64 dask.array<shape=(425322,), chunksize=(17038,)>\n",
       "    Radius      (Timestamp) float64 dask.array<shape=(425322,), chunksize=(17038,)>\n",
       "    F           (Timestamp) float64 dask.array<shape=(425322,), chunksize=(17038,)>\n",
       "Attributes:\n",
       "    Sources:         ['SW_OPER_MAGA_LR_1B_20140101T000000_20140101T235959_050...\n",
       "    MagneticModels:  []\n",
       "    RangeFilters:    ['Flags_B:0,1', 'Flags_F:0,1']"
      ]
     },
     "execution_count": 20,
     "metadata": {},
     "output_type": "execute_result"
    }
   ],
   "source": [
    "ds = open_mfdataset(\"data_2014*.nc\", combine=\"by_coords\")\n",
    "ds"
   ]
  },
  {
   "cell_type": "markdown",
   "metadata": {},
   "source": [
    "### Warning: I haven't tested this out properly. Theres a bug in the behaviour of the metadata"
   ]
  },
  {
   "cell_type": "code",
   "execution_count": 21,
   "metadata": {},
   "outputs": [
    {
     "data": {
      "text/plain": [
       "['SW_OPER_MAGA_LR_1B_20140101T000000_20140101T235959_0505_MDR_MAG_LR',\n",
       " 'SW_OPER_MAGA_LR_1B_20140102T000000_20140102T235959_0505_MDR_MAG_LR']"
      ]
     },
     "execution_count": 21,
     "metadata": {},
     "output_type": "execute_result"
    }
   ],
   "source": [
    "ds.Sources"
   ]
  },
  {
   "cell_type": "code",
   "execution_count": 22,
   "metadata": {},
   "outputs": [
    {
     "name": "stderr",
     "output_type": "stream",
     "text": [
      "/home/ash/miniconda3/envs/py37/lib/python3.7/site-packages/pandas/plotting/_matplotlib/converter.py:103: FutureWarning: Using an implicitly registered datetime converter for a matplotlib plotting method. The converter was registered by pandas on import. Future versions of pandas will require you to explicitly register matplotlib converters.\n",
      "\n",
      "To register the converters:\n",
      "\t>>> from pandas.plotting import register_matplotlib_converters\n",
      "\t>>> register_matplotlib_converters()\n",
      "  warnings.warn(msg, FutureWarning)\n"
     ]
    },
    {
     "data": {
      "image/png": "[encoded data removed]",
      "text/plain": [
       "<Figure size 432x288 with 1 Axes>"
      ]
     },
     "metadata": {
      "needs_background": "light"
     },
     "output_type": "display_data"
    }
   ],
   "source": [
    "ds[\"F\"].plot();"
   ]
  },
  {
   "cell_type": "code",
   "execution_count": 23,
   "metadata": {},
   "outputs": [],
   "source": [
    "!rm data_2014*.nc"
   ]
  },
  {
   "cell_type": "markdown",
   "metadata": {},
   "source": [
    "# ... getting 2014-19 and converting to netCDF using the automatically split files"
   ]
  },
  {
   "cell_type": "code",
   "execution_count": 4,
   "metadata": {},
   "outputs": [
    {
     "name": "stderr",
     "output_type": "stream",
     "text": [
      "[1/8] Processing:  100%|██████████|  [ Elapsed: 00:10, Remaining: 00:00 ]\n",
      "      Downloading: 100%|██████████|  [ Elapsed: 00:17, Remaining: 00:00 ] (165.873MB)\n",
      "[2/8] Processing:  100%|██████████|  [ Elapsed: 00:10, Remaining: 00:00 ]\n",
      "      Downloading: 100%|██████████|  [ Elapsed: 00:12, Remaining: 00:00 ] (174.037MB)\n",
      "[3/8] Processing:  100%|██████████|  [ Elapsed: 00:10, Remaining: 00:00 ]\n",
      "      Downloading: 100%|██████████|  [ Elapsed: 00:11, Remaining: 00:00 ] (174.4MB)\n",
      "[4/8] Processing:  100%|██████████|  [ Elapsed: 00:10, Remaining: 00:00 ]\n",
      "      Downloading: 100%|██████████|  [ Elapsed: 00:13, Remaining: 00:00 ] (174.176MB)\n",
      "[5/8] Processing:  100%|██████████|  [ Elapsed: 00:10, Remaining: 00:00 ]\n",
      "      Downloading: 100%|██████████|  [ Elapsed: 00:12, Remaining: 00:00 ] (173.071MB)\n",
      "[6/8] Processing:  100%|██████████|  [ Elapsed: 00:10, Remaining: 00:00 ]\n",
      "      Downloading: 100%|██████████|  [ Elapsed: 00:12, Remaining: 00:00 ] (174.317MB)\n",
      "[7/8] Processing:  100%|██████████|  [ Elapsed: 00:10, Remaining: 00:00 ]\n",
      "      Downloading: 100%|██████████|  [ Elapsed: 00:10, Remaining: 00:00 ] (172.158MB)\n",
      "[8/8] Processing:  100%|██████████|  [ Elapsed: 00:03, Remaining: 00:00 ]\n",
      "      Downloading: 100%|██████████|  [ Elapsed: 00:03, Remaining: 00:00 ] (52.349MB)\n"
     ]
    }
   ],
   "source": [
    "data = request.get_between(\n",
    "    start_time=dt.datetime(2014,1,1),\n",
    "    end_time=dt.datetime(2019,1,1)\n",
    ")"
   ]
  },
  {
   "cell_type": "markdown",
   "metadata": {},
   "source": [
    "### It is possible to access each file and load as xarray Dataset (rather than automatically concatenating them all)\n",
    "\n",
    "### This could be a problem if the sizes are too large for your machine. It is also rather slow!\n",
    "\n",
    "### BUG: the metadata isn't added in this case"
   ]
  },
  {
   "cell_type": "code",
   "execution_count": 5,
   "metadata": {},
   "outputs": [
    {
     "data": {
      "text/plain": [
       "<xarray.Dataset>\n",
       "Dimensions:     (Timestamp: 4043952)\n",
       "Coordinates:\n",
       "  * Timestamp   (Timestamp) datetime64[ns] 2014-01-01 ... 2014-09-07T23:59:55\n",
       "Data variables:\n",
       "    Spacecraft  (Timestamp) <U1 'A' 'A' 'A' 'A' 'A' 'A' ... 'A' 'A' 'A' 'A' 'A'\n",
       "    Latitude    (Timestamp) float64 -1.229 -1.546 -1.863 ... 54.96 55.28 55.6\n",
       "    Longitude   (Timestamp) float64 -14.12 -14.12 -14.13 ... -165.2 -165.2\n",
       "    Radius      (Timestamp) float64 6.878e+06 6.878e+06 ... 6.834e+06 6.834e+06\n",
       "    F           (Timestamp) float64 2.287e+04 2.284e+04 ... 4.207e+04 4.22e+04"
      ]
     },
     "execution_count": 5,
     "metadata": {},
     "output_type": "execute_result"
    }
   ],
   "source": [
    "data.contents[0].as_xarray()"
   ]
  },
  {
   "cell_type": "code",
   "execution_count": 8,
   "metadata": {},
   "outputs": [
    {
     "name": "stdout",
     "output_type": "stream",
     "text": [
      "CPU times: user 21min 1s, sys: 15.2 s, total: 21min 16s\n",
      "Wall time: 21min 15s\n"
     ]
    }
   ],
   "source": [
    "%%time\n",
    "filenames = [f\"testfile_{n:03}.nc\" for n in range(len(data.contents))]\n",
    "for data_part, filename in zip(data.contents, filenames):\n",
    "    data_part.as_xarray().to_netcdf(filename)"
   ]
  },
  {
   "cell_type": "code",
   "execution_count": 14,
   "metadata": {},
   "outputs": [
    {
     "data": {
      "text/plain": [
       "<xarray.Dataset>\n",
       "Dimensions:     (Timestamp: 30728063)\n",
       "Coordinates:\n",
       "  * Timestamp   (Timestamp) datetime64[ns] 2014-01-01 ... 2018-12-31T23:59:55\n",
       "Data variables:\n",
       "    Spacecraft  (Timestamp) object dask.array<shape=(30728063,), chunksize=(4043952,)>\n",
       "    Latitude    (Timestamp) float64 dask.array<shape=(30728063,), chunksize=(4043952,)>\n",
       "    Longitude   (Timestamp) float64 dask.array<shape=(30728063,), chunksize=(4043952,)>\n",
       "    Radius      (Timestamp) float64 dask.array<shape=(30728063,), chunksize=(4043952,)>\n",
       "    F           (Timestamp) float64 dask.array<shape=(30728063,), chunksize=(4043952,)>"
      ]
     },
     "execution_count": 14,
     "metadata": {},
     "output_type": "execute_result"
    }
   ],
   "source": [
    "ds = open_mfdataset(\"testfile*.nc\", combine=\"by_coords\")\n",
    "ds"
   ]
  },
  {
   "cell_type": "code",
   "execution_count": 15,
   "metadata": {},
   "outputs": [],
   "source": [
    "!rm testfile*.nc"
   ]
  }
 ],
 "metadata": {
  "kernelspec": {
   "display_name": "Python 3",
   "language": "python",
   "name": "python3"
  },
  "language_info": {
   "codemirror_mode": {
    "name": "ipython",
    "version": 3
   },
   "file_extension": ".py",
   "mimetype": "text/x-python",
   "name": "python",
   "nbconvert_exporter": "python",
   "pygments_lexer": "ipython3",
   "version": "3.7.4"
  }
 },
 "nbformat": 4,
 "nbformat_minor": 4
}
