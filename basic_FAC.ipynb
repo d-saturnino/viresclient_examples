{
 "cells": [
  {
   "cell_type": "code",
   "execution_count": 6,
   "metadata": {},
   "outputs": [
    {
     "name": "stderr",
     "output_type": "stream",
     "text": [
      "[1/1] Processing:  100%|██████████|  [ Elapsed: 00:01, Remaining: 00:00 ]\n",
      "      Downloading: 100%|██████████|  [ Elapsed: 00:05, Remaining: 00:00 ] (7.005MB)\n"
     ]
    }
   ],
   "source": [
    "from viresclient import SwarmRequest\n",
    "import datetime as dt\n",
    "\n",
    "request = SwarmRequest(\"https://staging.viresdisc.vires.services/openows\")\n",
    "\n",
    "request.set_collection(\"SW_OPER_FAC_TMS_2F\")\n",
    "\n",
    "request.set_products(measurements=request.available_measurements(\"FAC\"))\n",
    "\n",
    "data = request.get_between(dt.datetime(2016,1,1),\n",
    "                           dt.datetime(2016,1,2))"
   ]
  },
  {
   "cell_type": "code",
   "execution_count": 7,
   "metadata": {},
   "outputs": [
    {
     "data": {
      "text/plain": [
       "<xarray.Dataset>\n",
       "Dimensions:     (Timestamp: 86400)\n",
       "Coordinates:\n",
       "  * Timestamp   (Timestamp) datetime64[ns] 2016-01-01T00:00:00.500000 ...\n",
       "Data variables:\n",
       "    Spacecraft  (Timestamp) <U1 '-' '-' '-' '-' '-' '-' '-' '-' '-' '-' '-' ...\n",
       "    Latitude    (Timestamp) float64 -72.5 -72.56 -72.63 -72.69 -72.75 -72.82 ...\n",
       "    Longitude   (Timestamp) float64 93.51 93.54 93.57 93.6 93.63 93.66 93.69 ...\n",
       "    Radius      (Timestamp) float64 6.834e+06 6.834e+06 6.834e+06 6.834e+06 ...\n",
       "    IRC         (Timestamp) float64 0.04633 0.03588 0.02667 0.02002 0.01517 ...\n",
       "    IRC_Error   (Timestamp) float64 3.609e-08 3.62e-08 3.631e-08 3.643e-08 ...\n",
       "    FAC         (Timestamp) float64 0.0475 0.03678 0.02734 0.02052 0.01555 ...\n",
       "    FAC_Error   (Timestamp) float64 3.7e-08 3.711e-08 3.723e-08 3.734e-08 ...\n",
       "    Flags       (Timestamp) uint32 0 0 0 0 0 0 0 0 0 0 0 0 0 0 0 0 0 0 0 0 0 ...\n",
       "    Flags_F     (Timestamp) uint32 22222224 22222224 22222224 22222224 ...\n",
       "    Flags_B     (Timestamp) uint32 2 2 2 2 2 2 2 2 2 2 2 2 2 2 2 2 2 2 2 2 2 ...\n",
       "    Flags_q     (Timestamp) uint32 404 404 404 404 404 404 404 404 404 404 ..."
      ]
     },
     "execution_count": 7,
     "metadata": {},
     "output_type": "execute_result"
    }
   ],
   "source": [
    "data.as_xarray()"
   ]
  },
  {
   "cell_type": "code",
   "execution_count": null,
   "metadata": {},
   "outputs": [],
   "source": []
  }
 ],
 "metadata": {
  "kernelspec": {
   "display_name": "Python 3",
   "language": "python",
   "name": "python3"
  },
  "language_info": {
   "codemirror_mode": {
    "name": "ipython",
    "version": 3
   },
   "file_extension": ".py",
   "mimetype": "text/x-python",
   "name": "python",
   "nbconvert_exporter": "python",
   "pygments_lexer": "ipython3",
   "version": "3.5.5"
  }
 },
 "nbformat": 4,
 "nbformat_minor": 2
}
