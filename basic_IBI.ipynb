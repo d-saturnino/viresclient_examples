{
 "cells": [
  {
   "cell_type": "code",
   "execution_count": 1,
   "metadata": {},
   "outputs": [],
   "source": [
    "from viresclient import SwarmRequest\n",
    "import datetime as dt\n",
    "import numpy as np\n",
    "%matplotlib inline"
   ]
  },
  {
   "cell_type": "code",
   "execution_count": 2,
   "metadata": {},
   "outputs": [
    {
     "name": "stderr",
     "output_type": "stream",
     "text": [
      "[1/1] Processing:  100%|██████████|  [ Elapsed: 00:01, Remaining: 00:00 ]\n",
      "      Downloading: 100%|██████████|  [ Elapsed: 00:00, Remaining: 00:00 ] (0.096MB)\n"
     ]
    }
   ],
   "source": [
    "request = SwarmRequest()\n",
    "request.set_collection(\"SW_OPER_IBIATMS_2F\")\n",
    "request.set_products(measurements=request.available_measurements(\"IBI\"))\n",
    "data = request.get_between(\n",
    "    dt.datetime(2016,1,1,9,7),\n",
    "    dt.datetime(2016,1,1,9,10)\n",
    ")"
   ]
  },
  {
   "cell_type": "code",
   "execution_count": 3,
   "metadata": {},
   "outputs": [
    {
     "data": {
      "text/html": [
       "<div>\n",
       "<style scoped>\n",
       "    .dataframe tbody tr th:only-of-type {\n",
       "        vertical-align: middle;\n",
       "    }\n",
       "\n",
       "    .dataframe tbody tr th {\n",
       "        vertical-align: top;\n",
       "    }\n",
       "\n",
       "    .dataframe thead th {\n",
       "        text-align: right;\n",
       "    }\n",
       "</style>\n",
       "<table border=\"1\" class=\"dataframe\">\n",
       "  <thead>\n",
       "    <tr style=\"text-align: right;\">\n",
       "      <th></th>\n",
       "      <th>Spacecraft</th>\n",
       "      <th>Latitude</th>\n",
       "      <th>Longitude</th>\n",
       "      <th>Radius</th>\n",
       "      <th>Bubble_Index</th>\n",
       "      <th>Bubble_Probability</th>\n",
       "      <th>Flags_Bubble</th>\n",
       "      <th>Flags_F</th>\n",
       "      <th>Flags_B</th>\n",
       "      <th>Flags_q</th>\n",
       "    </tr>\n",
       "  </thead>\n",
       "  <tbody>\n",
       "    <tr>\n",
       "      <th>2016-01-01 09:07:00</th>\n",
       "      <td>A</td>\n",
       "      <td>-16.923659</td>\n",
       "      <td>-52.119907</td>\n",
       "      <td>6830079.62</td>\n",
       "      <td>0</td>\n",
       "      <td>0.0</td>\n",
       "      <td>0</td>\n",
       "      <td>1</td>\n",
       "      <td>0</td>\n",
       "      <td>5</td>\n",
       "    </tr>\n",
       "    <tr>\n",
       "      <th>2016-01-01 09:07:01</th>\n",
       "      <td>A</td>\n",
       "      <td>-16.987667</td>\n",
       "      <td>-52.120848</td>\n",
       "      <td>6830087.28</td>\n",
       "      <td>0</td>\n",
       "      <td>0.0</td>\n",
       "      <td>0</td>\n",
       "      <td>1</td>\n",
       "      <td>0</td>\n",
       "      <td>5</td>\n",
       "    </tr>\n",
       "    <tr>\n",
       "      <th>2016-01-01 09:07:02</th>\n",
       "      <td>A</td>\n",
       "      <td>-17.051675</td>\n",
       "      <td>-52.121786</td>\n",
       "      <td>6830094.93</td>\n",
       "      <td>0</td>\n",
       "      <td>0.0</td>\n",
       "      <td>0</td>\n",
       "      <td>1</td>\n",
       "      <td>0</td>\n",
       "      <td>5</td>\n",
       "    </tr>\n",
       "    <tr>\n",
       "      <th>2016-01-01 09:07:03</th>\n",
       "      <td>A</td>\n",
       "      <td>-17.115682</td>\n",
       "      <td>-52.122722</td>\n",
       "      <td>6830102.57</td>\n",
       "      <td>0</td>\n",
       "      <td>0.0</td>\n",
       "      <td>0</td>\n",
       "      <td>1</td>\n",
       "      <td>0</td>\n",
       "      <td>5</td>\n",
       "    </tr>\n",
       "    <tr>\n",
       "      <th>2016-01-01 09:07:04</th>\n",
       "      <td>A</td>\n",
       "      <td>-17.179689</td>\n",
       "      <td>-52.123656</td>\n",
       "      <td>6830110.21</td>\n",
       "      <td>0</td>\n",
       "      <td>0.0</td>\n",
       "      <td>0</td>\n",
       "      <td>1</td>\n",
       "      <td>0</td>\n",
       "      <td>5</td>\n",
       "    </tr>\n",
       "  </tbody>\n",
       "</table>\n",
       "</div>"
      ],
      "text/plain": [
       "                    Spacecraft   Latitude  Longitude      Radius  \\\n",
       "2016-01-01 09:07:00          A -16.923659 -52.119907  6830079.62   \n",
       "2016-01-01 09:07:01          A -16.987667 -52.120848  6830087.28   \n",
       "2016-01-01 09:07:02          A -17.051675 -52.121786  6830094.93   \n",
       "2016-01-01 09:07:03          A -17.115682 -52.122722  6830102.57   \n",
       "2016-01-01 09:07:04          A -17.179689 -52.123656  6830110.21   \n",
       "\n",
       "                     Bubble_Index  Bubble_Probability  Flags_Bubble  Flags_F  \\\n",
       "2016-01-01 09:07:00             0                 0.0             0        1   \n",
       "2016-01-01 09:07:01             0                 0.0             0        1   \n",
       "2016-01-01 09:07:02             0                 0.0             0        1   \n",
       "2016-01-01 09:07:03             0                 0.0             0        1   \n",
       "2016-01-01 09:07:04             0                 0.0             0        1   \n",
       "\n",
       "                     Flags_B  Flags_q  \n",
       "2016-01-01 09:07:00        0        5  \n",
       "2016-01-01 09:07:01        0        5  \n",
       "2016-01-01 09:07:02        0        5  \n",
       "2016-01-01 09:07:03        0        5  \n",
       "2016-01-01 09:07:04        0        5  "
      ]
     },
     "execution_count": 3,
     "metadata": {},
     "output_type": "execute_result"
    }
   ],
   "source": [
    "df = data.as_dataframe()\n",
    "df.head()"
   ]
  },
  {
   "cell_type": "code",
   "execution_count": 4,
   "metadata": {},
   "outputs": [
    {
     "data": {
      "image/png": "[encoded data removed]",
      "text/plain": [
       "<Figure size 1440x360 with 1 Axes>"
      ]
     },
     "metadata": {
      "needs_background": "light"
     },
     "output_type": "display_data"
    }
   ],
   "source": [
    "df.plot(y=[\"Bubble_Index\", \"Bubble_Probability\"], figsize=(20,5));"
   ]
  }
 ],
 "metadata": {
  "kernelspec": {
   "display_name": "Python 3",
   "language": "python",
   "name": "python3"
  },
  "language_info": {
   "codemirror_mode": {
    "name": "ipython",
    "version": 3
   },
   "file_extension": ".py",
   "mimetype": "text/x-python",
   "name": "python",
   "nbconvert_exporter": "python",
   "pygments_lexer": "ipython3",
   "version": "3.7.4"
  }
 },
 "nbformat": 4,
 "nbformat_minor": 4
}
