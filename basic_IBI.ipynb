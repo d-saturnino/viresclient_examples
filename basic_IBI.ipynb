{
 "cells": [
  {
   "cell_type": "code",
   "execution_count": 2,
   "metadata": {},
   "outputs": [
    {
     "name": "stderr",
     "output_type": "stream",
     "text": [
      "[1/1] Processing:  100%|██████████|  [ Elapsed: 00:07, Remaining: 00:00 ]\n",
      "      Downloading: 100%|██████████|  [ Elapsed: 00:57, Remaining: 00:00 ] (81.296MB)\n"
     ]
    }
   ],
   "source": [
    "from viresclient import SwarmRequest\n",
    "import datetime as dt\n",
    "import numpy as np\n",
    "\n",
    "request = SwarmRequest(\"https://staging.viresdisc.vires.services/openows\")\n",
    "\n",
    "request.set_collection(\"SW_OPER_IBIATMS_2F\")\n",
    "\n",
    "request.set_products(measurements=request.available_measurements(\"IBI\"))\n",
    "\n",
    "data = request.get_between(dt.datetime(2014,1,1),\n",
    "                           dt.datetime(2014,2,1))"
   ]
  },
  {
   "cell_type": "code",
   "execution_count": 3,
   "metadata": {},
   "outputs": [
    {
     "data": {
      "text/plain": [
       "array([datetime.timedelta(0, 1), datetime.timedelta(0, 2),\n",
       "       datetime.timedelta(1, 1), datetime.timedelta(3, 47399),\n",
       "       datetime.timedelta(6, 1)], dtype=object)"
      ]
     },
     "execution_count": 3,
     "metadata": {},
     "output_type": "execute_result"
    }
   ],
   "source": [
    "# Take a look at the time jumps between entries\n",
    "df = data.as_dataframe()\n",
    "times = df.index\n",
    "np.unique(np.sort(np.diff(times.to_pydatetime())))"
   ]
  },
  {
   "cell_type": "code",
   "execution_count": 4,
   "metadata": {},
   "outputs": [
    {
     "data": {
      "text/plain": [
       "<xarray.Dataset>\n",
       "Dimensions:             (Timestamp: 1767001)\n",
       "Coordinates:\n",
       "  * Timestamp           (Timestamp) datetime64[ns] 2014-01-01 ...\n",
       "Data variables:\n",
       "    Spacecraft          (Timestamp) <U1 'A' 'A' 'A' 'A' 'A' 'A' 'A' 'A' 'A' ...\n",
       "    Latitude            (Timestamp) float64 -1.229 -1.292 -1.356 -1.419 ...\n",
       "    Longitude           (Timestamp) float64 -14.12 -14.12 -14.12 -14.12 ...\n",
       "    Radius              (Timestamp) float64 6.878e+06 6.878e+06 6.878e+06 ...\n",
       "    Bubble_Index        (Timestamp) int8 0 0 0 0 0 0 0 0 0 0 0 0 0 0 0 0 0 0 ...\n",
       "    Bubble_Probability  (Timestamp) float64 0.0 0.0 0.0 0.0 0.0 0.0 0.0 0.0 ...\n",
       "    Flags_Bubble        (Timestamp) uint8 0 0 0 0 0 0 0 0 0 0 0 0 0 0 0 0 0 ...\n",
       "    Flags_F             (Timestamp) uint8 1 1 1 1 1 1 1 1 1 1 1 1 1 1 1 1 1 ...\n",
       "    Flags_B             (Timestamp) uint8 0 0 0 0 0 0 0 0 0 0 0 0 0 0 0 0 0 ...\n",
       "    Flags_q             (Timestamp) uint8 0 0 0 0 0 0 0 0 0 0 0 0 0 0 0 0 0 ..."
      ]
     },
     "execution_count": 4,
     "metadata": {},
     "output_type": "execute_result"
    }
   ],
   "source": [
    "data.as_xarray()"
   ]
  },
  {
   "cell_type": "code",
   "execution_count": null,
   "metadata": {},
   "outputs": [],
   "source": []
  }
 ],
 "metadata": {
  "kernelspec": {
   "display_name": "Python 3",
   "language": "python",
   "name": "python3"
  },
  "language_info": {
   "codemirror_mode": {
    "name": "ipython",
    "version": 3
   },
   "file_extension": ".py",
   "mimetype": "text/x-python",
   "name": "python",
   "nbconvert_exporter": "python",
   "pygments_lexer": "ipython3",
   "version": "3.5.5"
  }
 },
 "nbformat": 4,
 "nbformat_minor": 2
}
