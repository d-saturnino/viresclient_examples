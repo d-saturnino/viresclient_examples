{
 "cells": [
  {
   "cell_type": "code",
   "execution_count": 1,
   "metadata": {},
   "outputs": [
    {
     "name": "stderr",
     "output_type": "stream",
     "text": [
      "[1/1] Processing:  100%|██████████|  [ Elapsed: 00:01, Remaining: 00:00 ]\n",
      "      Downloading: 100%|██████████|  [ Elapsed: 00:00, Remaining: 00:00 ] (9.311MB)\n"
     ]
    }
   ],
   "source": [
    "from viresclient import SwarmRequest\n",
    "import datetime as dt\n",
    "import numpy as np\n",
    "import pandas as pd\n",
    "\n",
    "request = SwarmRequest()\n",
    "\n",
    "request.set_collection(\"SW_OPER_TECATMS_2F\")\n",
    "\n",
    "request.set_products(measurements=request.available_measurements(\"TEC\"))\n",
    "\n",
    "data = request.get_between(dt.datetime(2014,1,1),\n",
    "                           dt.datetime(2014,1,2))"
   ]
  },
  {
   "cell_type": "code",
   "execution_count": 3,
   "metadata": {},
   "outputs": [
    {
     "data": {
      "text/html": [
       "<div>\n",
       "<style scoped>\n",
       "    .dataframe tbody tr th:only-of-type {\n",
       "        vertical-align: middle;\n",
       "    }\n",
       "\n",
       "    .dataframe tbody tr th {\n",
       "        vertical-align: top;\n",
       "    }\n",
       "\n",
       "    .dataframe thead th {\n",
       "        text-align: right;\n",
       "    }\n",
       "</style>\n",
       "<table border=\"1\" class=\"dataframe\">\n",
       "  <thead>\n",
       "    <tr style=\"text-align: right;\">\n",
       "      <th></th>\n",
       "      <th>Spacecraft</th>\n",
       "      <th>Latitude</th>\n",
       "      <th>Longitude</th>\n",
       "      <th>Radius</th>\n",
       "      <th>GPS_Position</th>\n",
       "      <th>LEO_Position</th>\n",
       "      <th>PRN</th>\n",
       "      <th>L1</th>\n",
       "      <th>L2</th>\n",
       "      <th>P1</th>\n",
       "      <th>P2</th>\n",
       "      <th>S1</th>\n",
       "      <th>S2</th>\n",
       "      <th>Elevation_Angle</th>\n",
       "      <th>Absolute_VTEC</th>\n",
       "      <th>Absolute_STEC</th>\n",
       "      <th>Relative_STEC</th>\n",
       "      <th>Relative_STEC_RMS</th>\n",
       "      <th>DCB</th>\n",
       "      <th>DCB_Error</th>\n",
       "    </tr>\n",
       "  </thead>\n",
       "  <tbody>\n",
       "    <tr>\n",
       "      <th>2014-01-01 00:00:04</th>\n",
       "      <td>A</td>\n",
       "      <td>-1.482419</td>\n",
       "      <td>-14.122572</td>\n",
       "      <td>6.878338e+06</td>\n",
       "      <td>[22448765.690377887, 5421379.431197803, -13409...</td>\n",
       "      <td>[6668214.544000001, -1677732.674, -177943.9959...</td>\n",
       "      <td>15</td>\n",
       "      <td>-6.261986e+06</td>\n",
       "      <td>-6.261989e+06</td>\n",
       "      <td>2.182913e+07</td>\n",
       "      <td>2.182914e+07</td>\n",
       "      <td>36.83</td>\n",
       "      <td>36.83</td>\n",
       "      <td>39.683333</td>\n",
       "      <td>10.894886</td>\n",
       "      <td>16.429938</td>\n",
       "      <td>24.041127</td>\n",
       "      <td>0.555675</td>\n",
       "      <td>-11.446853</td>\n",
       "      <td>0.832346</td>\n",
       "    </tr>\n",
       "    <tr>\n",
       "      <th>2014-01-01 00:00:04</th>\n",
       "      <td>A</td>\n",
       "      <td>-1.482419</td>\n",
       "      <td>-14.122572</td>\n",
       "      <td>6.878338e+06</td>\n",
       "      <td>[16113499.491062254, -16306172.004347403, -126...</td>\n",
       "      <td>[6668214.544000001, -1677732.674, -177943.9959...</td>\n",
       "      <td>18</td>\n",
       "      <td>-1.466568e+07</td>\n",
       "      <td>-1.466568e+07</td>\n",
       "      <td>2.135749e+07</td>\n",
       "      <td>2.135749e+07</td>\n",
       "      <td>34.75</td>\n",
       "      <td>34.75</td>\n",
       "      <td>37.478137</td>\n",
       "      <td>10.461554</td>\n",
       "      <td>16.456409</td>\n",
       "      <td>22.754795</td>\n",
       "      <td>0.488000</td>\n",
       "      <td>-11.446853</td>\n",
       "      <td>0.832346</td>\n",
       "    </tr>\n",
       "    <tr>\n",
       "      <th>2014-01-01 00:00:04</th>\n",
       "      <td>A</td>\n",
       "      <td>-1.482419</td>\n",
       "      <td>-14.122572</td>\n",
       "      <td>6.878338e+06</td>\n",
       "      <td>[10823457.339250825, -24014739.352816023, -248...</td>\n",
       "      <td>[6668214.544000001, -1677732.674, -177943.9959...</td>\n",
       "      <td>22</td>\n",
       "      <td>-5.455452e+06</td>\n",
       "      <td>-5.455454e+06</td>\n",
       "      <td>2.277638e+07</td>\n",
       "      <td>2.277638e+07</td>\n",
       "      <td>30.90</td>\n",
       "      <td>30.90</td>\n",
       "      <td>24.681787</td>\n",
       "      <td>9.529846</td>\n",
       "      <td>20.434286</td>\n",
       "      <td>15.585271</td>\n",
       "      <td>1.313984</td>\n",
       "      <td>-11.446853</td>\n",
       "      <td>0.832346</td>\n",
       "    </tr>\n",
       "    <tr>\n",
       "      <th>2014-01-01 00:00:04</th>\n",
       "      <td>A</td>\n",
       "      <td>-1.482419</td>\n",
       "      <td>-14.122572</td>\n",
       "      <td>6.878338e+06</td>\n",
       "      <td>[20631539.59055339, 13441368.439225309, 100505...</td>\n",
       "      <td>[6668214.544000001, -1677732.674, -177943.9959...</td>\n",
       "      <td>24</td>\n",
       "      <td>-3.402816e+06</td>\n",
       "      <td>-3.402821e+06</td>\n",
       "      <td>2.298846e+07</td>\n",
       "      <td>2.298847e+07</td>\n",
       "      <td>29.87</td>\n",
       "      <td>29.87</td>\n",
       "      <td>24.647445</td>\n",
       "      <td>9.357587</td>\n",
       "      <td>20.085094</td>\n",
       "      <td>52.291341</td>\n",
       "      <td>0.899036</td>\n",
       "      <td>-11.446853</td>\n",
       "      <td>0.832346</td>\n",
       "    </tr>\n",
       "    <tr>\n",
       "      <th>2014-01-01 00:00:04</th>\n",
       "      <td>A</td>\n",
       "      <td>-1.482419</td>\n",
       "      <td>-14.122572</td>\n",
       "      <td>6.878338e+06</td>\n",
       "      <td>[16637723.905075422, -10692759.977004562, 1761...</td>\n",
       "      <td>[6668214.544000001, -1677732.674, -177943.9959...</td>\n",
       "      <td>25</td>\n",
       "      <td>-2.285981e+06</td>\n",
       "      <td>-2.285986e+06</td>\n",
       "      <td>2.229899e+07</td>\n",
       "      <td>2.229900e+07</td>\n",
       "      <td>30.88</td>\n",
       "      <td>30.88</td>\n",
       "      <td>30.753636</td>\n",
       "      <td>8.597559</td>\n",
       "      <td>15.676947</td>\n",
       "      <td>52.672067</td>\n",
       "      <td>0.546729</td>\n",
       "      <td>-11.446853</td>\n",
       "      <td>0.832346</td>\n",
       "    </tr>\n",
       "  </tbody>\n",
       "</table>\n",
       "</div>"
      ],
      "text/plain": [
       "                    Spacecraft  Latitude  Longitude        Radius  \\\n",
       "2014-01-01 00:00:04          A -1.482419 -14.122572  6.878338e+06   \n",
       "2014-01-01 00:00:04          A -1.482419 -14.122572  6.878338e+06   \n",
       "2014-01-01 00:00:04          A -1.482419 -14.122572  6.878338e+06   \n",
       "2014-01-01 00:00:04          A -1.482419 -14.122572  6.878338e+06   \n",
       "2014-01-01 00:00:04          A -1.482419 -14.122572  6.878338e+06   \n",
       "\n",
       "                                                          GPS_Position  \\\n",
       "2014-01-01 00:00:04  [22448765.690377887, 5421379.431197803, -13409...   \n",
       "2014-01-01 00:00:04  [16113499.491062254, -16306172.004347403, -126...   \n",
       "2014-01-01 00:00:04  [10823457.339250825, -24014739.352816023, -248...   \n",
       "2014-01-01 00:00:04  [20631539.59055339, 13441368.439225309, 100505...   \n",
       "2014-01-01 00:00:04  [16637723.905075422, -10692759.977004562, 1761...   \n",
       "\n",
       "                                                          LEO_Position  PRN  \\\n",
       "2014-01-01 00:00:04  [6668214.544000001, -1677732.674, -177943.9959...   15   \n",
       "2014-01-01 00:00:04  [6668214.544000001, -1677732.674, -177943.9959...   18   \n",
       "2014-01-01 00:00:04  [6668214.544000001, -1677732.674, -177943.9959...   22   \n",
       "2014-01-01 00:00:04  [6668214.544000001, -1677732.674, -177943.9959...   24   \n",
       "2014-01-01 00:00:04  [6668214.544000001, -1677732.674, -177943.9959...   25   \n",
       "\n",
       "                               L1            L2            P1            P2  \\\n",
       "2014-01-01 00:00:04 -6.261986e+06 -6.261989e+06  2.182913e+07  2.182914e+07   \n",
       "2014-01-01 00:00:04 -1.466568e+07 -1.466568e+07  2.135749e+07  2.135749e+07   \n",
       "2014-01-01 00:00:04 -5.455452e+06 -5.455454e+06  2.277638e+07  2.277638e+07   \n",
       "2014-01-01 00:00:04 -3.402816e+06 -3.402821e+06  2.298846e+07  2.298847e+07   \n",
       "2014-01-01 00:00:04 -2.285981e+06 -2.285986e+06  2.229899e+07  2.229900e+07   \n",
       "\n",
       "                        S1     S2  Elevation_Angle  Absolute_VTEC  \\\n",
       "2014-01-01 00:00:04  36.83  36.83        39.683333      10.894886   \n",
       "2014-01-01 00:00:04  34.75  34.75        37.478137      10.461554   \n",
       "2014-01-01 00:00:04  30.90  30.90        24.681787       9.529846   \n",
       "2014-01-01 00:00:04  29.87  29.87        24.647445       9.357587   \n",
       "2014-01-01 00:00:04  30.88  30.88        30.753636       8.597559   \n",
       "\n",
       "                     Absolute_STEC  Relative_STEC  Relative_STEC_RMS  \\\n",
       "2014-01-01 00:00:04      16.429938      24.041127           0.555675   \n",
       "2014-01-01 00:00:04      16.456409      22.754795           0.488000   \n",
       "2014-01-01 00:00:04      20.434286      15.585271           1.313984   \n",
       "2014-01-01 00:00:04      20.085094      52.291341           0.899036   \n",
       "2014-01-01 00:00:04      15.676947      52.672067           0.546729   \n",
       "\n",
       "                           DCB  DCB_Error  \n",
       "2014-01-01 00:00:04 -11.446853   0.832346  \n",
       "2014-01-01 00:00:04 -11.446853   0.832346  \n",
       "2014-01-01 00:00:04 -11.446853   0.832346  \n",
       "2014-01-01 00:00:04 -11.446853   0.832346  \n",
       "2014-01-01 00:00:04 -11.446853   0.832346  "
      ]
     },
     "execution_count": 3,
     "metadata": {},
     "output_type": "execute_result"
    }
   ],
   "source": [
    "df = data.as_dataframe()\n",
    "df.head()"
   ]
  },
  {
   "cell_type": "markdown",
   "metadata": {},
   "source": [
    "NB: The time interval is not always the same:"
   ]
  },
  {
   "cell_type": "code",
   "execution_count": 4,
   "metadata": {},
   "outputs": [
    {
     "data": {
      "text/plain": [
       "array([datetime.timedelta(0), datetime.timedelta(seconds=10)],\n",
       "      dtype=object)"
      ]
     },
     "execution_count": 4,
     "metadata": {},
     "output_type": "execute_result"
    }
   ],
   "source": [
    "times = df.index\n",
    "np.unique(np.sort(np.diff(times.to_pydatetime())))"
   ]
  },
  {
   "cell_type": "code",
   "execution_count": 5,
   "metadata": {},
   "outputs": [
    {
     "data": {
      "text/plain": [
       "(49738, 86400)"
      ]
     },
     "execution_count": 5,
     "metadata": {},
     "output_type": "execute_result"
    }
   ],
   "source": [
    "len(df), 60*60*24"
   ]
  },
  {
   "cell_type": "code",
   "execution_count": 6,
   "metadata": {},
   "outputs": [
    {
     "data": {
      "text/plain": [
       "<xarray.Dataset>\n",
       "Dimensions:            (Timestamp: 49738, dim: 3)\n",
       "Coordinates:\n",
       "  * Timestamp          (Timestamp) datetime64[ns] 2014-01-01T00:00:04 ... 2014-01-01T23:59:54\n",
       "Dimensions without coordinates: dim\n",
       "Data variables:\n",
       "    Spacecraft         (Timestamp) <U1 'A' 'A' 'A' 'A' 'A' ... 'A' 'A' 'A' 'A'\n",
       "    Latitude           (Timestamp) float64 -1.482 -1.482 -1.482 ... -81.7 -81.7\n",
       "    Longitude          (Timestamp) float64 -14.12 -14.12 -14.12 ... 1.559 1.559\n",
       "    Radius             (Timestamp) float64 6.878e+06 6.878e+06 ... 6.88e+06\n",
       "    GPS_Position       (Timestamp, dim) float64 2.245e+07 ... -2.111e+07\n",
       "    LEO_Position       (Timestamp, dim) float64 6.668e+06 ... -6.808e+06\n",
       "    PRN                (Timestamp) uint16 15 18 22 24 25 29 ... 7 15 16 18 21 26\n",
       "    L1                 (Timestamp) float64 -6.262e+06 -1.467e+07 ... -3.41e+06\n",
       "    L2                 (Timestamp) float64 -6.262e+06 -1.467e+07 ... -3.41e+06\n",
       "    P1                 (Timestamp) float64 2.183e+07 2.136e+07 ... 2.171e+07\n",
       "    P2                 (Timestamp) float64 2.183e+07 2.136e+07 ... 2.171e+07\n",
       "    S1                 (Timestamp) float64 36.83 34.75 30.9 ... 23.03 37.73 37.5\n",
       "    S2                 (Timestamp) float64 36.83 34.75 30.9 ... 23.03 37.73 37.5\n",
       "    Elevation_Angle    (Timestamp) float64 39.68 37.48 24.68 ... 49.64 45.71\n",
       "    Absolute_VTEC      (Timestamp) float64 10.89 10.46 9.53 ... 8.365 7.912\n",
       "    Absolute_STEC      (Timestamp) float64 16.43 16.46 20.43 ... 10.77 10.78\n",
       "    Relative_STEC      (Timestamp) float64 24.04 22.75 15.59 ... 16.92 26.51\n",
       "    Relative_STEC_RMS  (Timestamp) float64 0.5557 0.488 1.314 ... 0.6458 3.041\n",
       "    DCB                (Timestamp) float64 -11.45 -11.45 ... -11.45 -11.45\n",
       "    DCB_Error          (Timestamp) float64 0.8323 0.8323 ... 0.8323 0.8323\n",
       "Attributes:\n",
       "    Sources:         ['SW_OPER_TECATMS_2F_20140101T000000_20140101T235959_0301']\n",
       "    MagneticModels:  []\n",
       "    RangeFilters:    []"
      ]
     },
     "execution_count": 6,
     "metadata": {},
     "output_type": "execute_result"
    }
   ],
   "source": [
    "data.as_xarray()"
   ]
  }
 ],
 "metadata": {
  "kernelspec": {
   "display_name": "Python 3",
   "language": "python",
   "name": "python3"
  },
  "language_info": {
   "codemirror_mode": {
    "name": "ipython",
    "version": 3
   },
   "file_extension": ".py",
   "mimetype": "text/x-python",
   "name": "python",
   "nbconvert_exporter": "python",
   "pygments_lexer": "ipython3",
   "version": "3.7.4"
  }
 },
 "nbformat": 4,
 "nbformat_minor": 4
}
